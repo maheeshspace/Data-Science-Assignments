{
 "cells": [
  {
   "cell_type": "code",
   "execution_count": 1,
   "id": "96bbcca5-a3a9-4ca7-8c63-664b86c646c8",
   "metadata": {},
   "outputs": [],
   "source": [
    "import pandas as pd\n",
    "import numpy as np\n",
    "import matplotlib.pyplot as plt\n",
    "import seaborn as sns\n",
    "from sklearn.metrics.pairwise import cosine_similarity\n",
    "from sklearn.model_selection import train_test_split\n",
    "from sklearn.preprocessing import MinMaxScaler\n",
    "from sklearn.metrics import precision_score, recall_score, f1_score\n",
    "import warnings\n",
    "warnings.filterwarnings('ignore')"
   ]
  },
  {
   "cell_type": "markdown",
   "id": "f59b97e3-a397-4322-a17d-fb5b7fd5153c",
   "metadata": {},
   "source": [
    "## Data Processing"
   ]
  },
  {
   "cell_type": "code",
   "execution_count": 2,
   "id": "35504d5b-cbd3-49d0-93c8-ac85c2d48e74",
   "metadata": {},
   "outputs": [
    {
     "data": {
      "text/html": [
       "<div>\n",
       "<style scoped>\n",
       "    .dataframe tbody tr th:only-of-type {\n",
       "        vertical-align: middle;\n",
       "    }\n",
       "\n",
       "    .dataframe tbody tr th {\n",
       "        vertical-align: top;\n",
       "    }\n",
       "\n",
       "    .dataframe thead th {\n",
       "        text-align: right;\n",
       "    }\n",
       "</style>\n",
       "<table border=\"1\" class=\"dataframe\">\n",
       "  <thead>\n",
       "    <tr style=\"text-align: right;\">\n",
       "      <th></th>\n",
       "      <th>anime_id</th>\n",
       "      <th>name</th>\n",
       "      <th>genre</th>\n",
       "      <th>type</th>\n",
       "      <th>episodes</th>\n",
       "      <th>rating</th>\n",
       "      <th>members</th>\n",
       "    </tr>\n",
       "  </thead>\n",
       "  <tbody>\n",
       "    <tr>\n",
       "      <th>0</th>\n",
       "      <td>32281</td>\n",
       "      <td>Kimi no Na wa.</td>\n",
       "      <td>Drama, Romance, School, Supernatural</td>\n",
       "      <td>Movie</td>\n",
       "      <td>1</td>\n",
       "      <td>9.37</td>\n",
       "      <td>200630</td>\n",
       "    </tr>\n",
       "    <tr>\n",
       "      <th>1</th>\n",
       "      <td>5114</td>\n",
       "      <td>Fullmetal Alchemist: Brotherhood</td>\n",
       "      <td>Action, Adventure, Drama, Fantasy, Magic, Mili...</td>\n",
       "      <td>TV</td>\n",
       "      <td>64</td>\n",
       "      <td>9.26</td>\n",
       "      <td>793665</td>\n",
       "    </tr>\n",
       "    <tr>\n",
       "      <th>2</th>\n",
       "      <td>28977</td>\n",
       "      <td>Gintama°</td>\n",
       "      <td>Action, Comedy, Historical, Parody, Samurai, S...</td>\n",
       "      <td>TV</td>\n",
       "      <td>51</td>\n",
       "      <td>9.25</td>\n",
       "      <td>114262</td>\n",
       "    </tr>\n",
       "    <tr>\n",
       "      <th>3</th>\n",
       "      <td>9253</td>\n",
       "      <td>Steins;Gate</td>\n",
       "      <td>Sci-Fi, Thriller</td>\n",
       "      <td>TV</td>\n",
       "      <td>24</td>\n",
       "      <td>9.17</td>\n",
       "      <td>673572</td>\n",
       "    </tr>\n",
       "    <tr>\n",
       "      <th>4</th>\n",
       "      <td>9969</td>\n",
       "      <td>Gintama&amp;#039;</td>\n",
       "      <td>Action, Comedy, Historical, Parody, Samurai, S...</td>\n",
       "      <td>TV</td>\n",
       "      <td>51</td>\n",
       "      <td>9.16</td>\n",
       "      <td>151266</td>\n",
       "    </tr>\n",
       "  </tbody>\n",
       "</table>\n",
       "</div>"
      ],
      "text/plain": [
       "   anime_id                              name  \\\n",
       "0     32281                    Kimi no Na wa.   \n",
       "1      5114  Fullmetal Alchemist: Brotherhood   \n",
       "2     28977                          Gintama°   \n",
       "3      9253                       Steins;Gate   \n",
       "4      9969                     Gintama&#039;   \n",
       "\n",
       "                                               genre   type episodes  rating  \\\n",
       "0               Drama, Romance, School, Supernatural  Movie        1    9.37   \n",
       "1  Action, Adventure, Drama, Fantasy, Magic, Mili...     TV       64    9.26   \n",
       "2  Action, Comedy, Historical, Parody, Samurai, S...     TV       51    9.25   \n",
       "3                                   Sci-Fi, Thriller     TV       24    9.17   \n",
       "4  Action, Comedy, Historical, Parody, Samurai, S...     TV       51    9.16   \n",
       "\n",
       "   members  \n",
       "0   200630  \n",
       "1   793665  \n",
       "2   114262  \n",
       "3   673572  \n",
       "4   151266  "
      ]
     },
     "execution_count": 2,
     "metadata": {},
     "output_type": "execute_result"
    }
   ],
   "source": [
    "df= pd.read_csv('anime.csv')  # loading dataset\n",
    "df.head()"
   ]
  },
  {
   "cell_type": "code",
   "execution_count": 3,
   "id": "1aafa9de-d62a-4bcc-bcc7-5c52d5624d6d",
   "metadata": {},
   "outputs": [
    {
     "data": {
      "text/plain": [
       "anime_id      0\n",
       "name          0\n",
       "genre        62\n",
       "type         25\n",
       "episodes      0\n",
       "rating      230\n",
       "members       0\n",
       "dtype: int64"
      ]
     },
     "execution_count": 3,
     "metadata": {},
     "output_type": "execute_result"
    }
   ],
   "source": [
    "df.isnull().sum()"
   ]
  },
  {
   "cell_type": "code",
   "execution_count": 4,
   "id": "71da3dd3-8c8b-4bb6-82a4-c53f1adfdd46",
   "metadata": {},
   "outputs": [
    {
     "data": {
      "text/plain": [
       "anime_id    0\n",
       "name        0\n",
       "genre       0\n",
       "type        0\n",
       "episodes    0\n",
       "rating      0\n",
       "members     0\n",
       "dtype: int64"
      ]
     },
     "execution_count": 4,
     "metadata": {},
     "output_type": "execute_result"
    }
   ],
   "source": [
    "df['genre'].fillna('Unknown',inplace=True)  # Handling missing values\n",
    "df['type'].fillna('Unknown',inplace=True)\n",
    "df['rating'].fillna(df['rating'].median(),inplace=True)\n",
    "df.isnull().sum()"
   ]
  },
  {
   "cell_type": "code",
   "execution_count": 25,
   "id": "83f32b18-48cf-4fb7-9d32-8a75a7e99697",
   "metadata": {},
   "outputs": [
    {
     "data": {
      "text/plain": [
       "0"
      ]
     },
     "execution_count": 25,
     "metadata": {},
     "output_type": "execute_result"
    }
   ],
   "source": [
    "df.duplicated().sum()  # no duplicate values"
   ]
  },
  {
   "cell_type": "markdown",
   "id": "cca90748-db0b-4a75-bb96-08cd9208b93a",
   "metadata": {},
   "source": [
    "## Feature Extraction"
   ]
  },
  {
   "cell_type": "code",
   "execution_count": 6,
   "id": "b215b8ab-4451-47d3-a9d7-a3b5d97dec0d",
   "metadata": {},
   "outputs": [],
   "source": [
    "def convert_episodes(val):           # function to convert episode obj dtype to numeric\n",
    "    return pd.to_numeric(val,errors='coerce')"
   ]
  },
  {
   "cell_type": "code",
   "execution_count": 7,
   "id": "27a64ffe-2d5f-4dce-958e-928b7aaaa8e2",
   "metadata": {},
   "outputs": [],
   "source": [
    "df['episodes']= df['episodes'].apply(convert_episodes)\n",
    "df['episodes'].fillna(df['episodes'].median(),inplace=True)"
   ]
  },
  {
   "cell_type": "code",
   "execution_count": 8,
   "id": "bb0a2d0f-fd39-48c3-a5fc-d38b1b2f1541",
   "metadata": {},
   "outputs": [],
   "source": [
    "genre_list= df['genre'].str.get_dummies(sep=', ')   # converting genres into one-hot encoding\n",
    "df= pd.concat([df,genre_list],axis=1)\n",
    "df.drop(columns=['genre'],inplace=True)"
   ]
  },
  {
   "cell_type": "code",
   "execution_count": 9,
   "id": "019a0f0b-f817-4b34-beb9-d45fbef55f7f",
   "metadata": {},
   "outputs": [],
   "source": [
    "scaler= MinMaxScaler()  # Normalizing numerical features\n",
    "df[['rating','episodes','members']]= scaler.fit_transform(df[['rating','episodes','members']])"
   ]
  },
  {
   "cell_type": "markdown",
   "id": "1ccc8de3-15b1-4631-9d6a-d9952506951d",
   "metadata": {},
   "source": [
    "## Recommendation System"
   ]
  },
  {
   "cell_type": "code",
   "execution_count": 10,
   "id": "c88e2d04-2ec9-40ec-ad55-b8597e53087a",
   "metadata": {},
   "outputs": [],
   "source": [
    "feature_cols= ['rating','episodes','members']+list(genre_list.columns)  # compute similarity matrix\n",
    "similarity_matrix= cosine_similarity(df[feature_cols])"
   ]
  },
  {
   "cell_type": "code",
   "execution_count": 11,
   "id": "c951475c-ed77-4188-8294-82ff2dcc9a8a",
   "metadata": {},
   "outputs": [],
   "source": [
    "def recommend_anime(anime_name,top_n=5):        # cosine similarity function to find relevant content\n",
    "    if anime_name not in df['name'].values:\n",
    "        return 'Anime not found in the dataset.'\n",
    "    \n",
    "    index= df[df['name']==anime_name].index[0]\n",
    "    similarity_scores= list(enumerate(similarity_matrix[index]))\n",
    "    similarity_scores= sorted(similarity_scores,key=lambda x:x[1],reverse=True)[1:top_n+1]\n",
    "\n",
    "    recommendations= [df.iloc[i[0]]['name'] for i in similarity_scores]\n",
    "    return recommendations\n",
    "    "
   ]
  },
  {
   "cell_type": "code",
   "execution_count": 12,
   "id": "7a12378c-ca38-478e-a939-ba6c8d572cfd",
   "metadata": {},
   "outputs": [
    {
     "data": {
      "text/plain": [
       "['Gintama&#039;',\n",
       " 'Gintama&#039;: Enchousen',\n",
       " 'Gintama Movie: Kanketsu-hen - Yorozuya yo Eien Nare',\n",
       " 'Gintama Movie: Shinyaku Benizakura-hen',\n",
       " 'Gintama: Yorinuki Gintama-san on Theater 2D']"
      ]
     },
     "execution_count": 12,
     "metadata": {},
     "output_type": "execute_result"
    }
   ],
   "source": [
    "recommend_anime('Gintama°')"
   ]
  },
  {
   "cell_type": "markdown",
   "id": "a0389d20-867d-419e-9cc0-a6b842763f12",
   "metadata": {},
   "source": [
    "## Evaluation"
   ]
  },
  {
   "cell_type": "code",
   "execution_count": 14,
   "id": "84f65f4b-5324-47f9-8e06-14a729cc8a79",
   "metadata": {},
   "outputs": [],
   "source": [
    "train,test= train_test_split(df,test_size=0.2,random_state=42) # splitting dataset for evaluation"
   ]
  },
  {
   "cell_type": "code",
   "execution_count": 15,
   "id": "913ac328-1d2b-4b32-9c81-2c81280bf23a",
   "metadata": {},
   "outputs": [
    {
     "name": "stdout",
     "output_type": "stream",
     "text": [
      "(9835, 50)\n",
      "(2459, 50)\n"
     ]
    }
   ],
   "source": [
    "print(train.shape)\n",
    "print(test.shape)"
   ]
  },
  {
   "cell_type": "code",
   "execution_count": 16,
   "id": "20a02db5-03e3-46d2-9a85-3139e3d5947b",
   "metadata": {},
   "outputs": [],
   "source": [
    "def evaluate_recommendations(test_sample_size=100):\n",
    "    true_positives, false_positives, false_negatives = 0, 0, 0\n",
    "    test_sample = test.sample(n=min(test_sample_size, len(test)))\n",
    "    \n",
    "    for _, row in test_sample.iterrows():\n",
    "        recommendations = recommend_anime(row['name'], top_n=5)\n",
    "        \n",
    "        if isinstance(recommendations, str):  # Anime not found case\n",
    "            continue\n",
    "        \n",
    "        if row['name'] in recommendations:\n",
    "            true_positives += 1\n",
    "        else:\n",
    "            false_negatives += 1\n",
    "            false_positives += len(recommendations)\n",
    "    \n",
    "    precision = precision_score([1]*true_positives + [0]*false_positives, \n",
    "                                [1]*true_positives + [1]*false_positives, zero_division=1)\n",
    "    recall = recall_score([1]*true_positives + [0]*false_negatives, \n",
    "                          [1]*true_positives + [0]*false_negatives, zero_division=1)\n",
    "    f1 = f1_score([1]*true_positives + [0]*(false_negatives + false_positives), \n",
    "                  [1]*true_positives + [0]*(false_negatives + false_positives), zero_division=1)\n",
    "    \n",
    "    return {\"Precision\": precision, \"Recall\": recall, \"F1-score\": f1}"
   ]
  },
  {
   "cell_type": "code",
   "execution_count": 33,
   "id": "852d1478-9a9b-4bbb-87aa-85626deeea19",
   "metadata": {},
   "outputs": [
    {
     "name": "stdout",
     "output_type": "stream",
     "text": [
      "Evaluation Metrics: {'Precision': 0.0, 'Recall': 1.0, 'F1-score': 1.0}\n"
     ]
    }
   ],
   "source": [
    "performance_metrics = evaluate_recommendations()\n",
    "print(\"Evaluation Metrics:\", performance_metrics)"
   ]
  },
  {
   "cell_type": "code",
   "execution_count": 22,
   "id": "9f9dd7d6-9472-4aaa-ac77-26a577555cc8",
   "metadata": {},
   "outputs": [
    {
     "data": {
      "text/html": [
       "<div>\n",
       "<style scoped>\n",
       "    .dataframe tbody tr th:only-of-type {\n",
       "        vertical-align: middle;\n",
       "    }\n",
       "\n",
       "    .dataframe tbody tr th {\n",
       "        vertical-align: top;\n",
       "    }\n",
       "\n",
       "    .dataframe thead th {\n",
       "        text-align: right;\n",
       "    }\n",
       "</style>\n",
       "<table border=\"1\" class=\"dataframe\">\n",
       "  <thead>\n",
       "    <tr style=\"text-align: right;\">\n",
       "      <th></th>\n",
       "      <th>anime_id</th>\n",
       "      <th>name</th>\n",
       "      <th>type</th>\n",
       "      <th>episodes</th>\n",
       "      <th>rating</th>\n",
       "      <th>members</th>\n",
       "      <th>Action</th>\n",
       "      <th>Adventure</th>\n",
       "      <th>Cars</th>\n",
       "      <th>Comedy</th>\n",
       "      <th>...</th>\n",
       "      <th>Slice of Life</th>\n",
       "      <th>Space</th>\n",
       "      <th>Sports</th>\n",
       "      <th>Super Power</th>\n",
       "      <th>Supernatural</th>\n",
       "      <th>Thriller</th>\n",
       "      <th>Unknown</th>\n",
       "      <th>Vampire</th>\n",
       "      <th>Yaoi</th>\n",
       "      <th>Yuri</th>\n",
       "    </tr>\n",
       "  </thead>\n",
       "  <tbody>\n",
       "    <tr>\n",
       "      <th>0</th>\n",
       "      <td>32281</td>\n",
       "      <td>Kimi no Na wa.</td>\n",
       "      <td>Movie</td>\n",
       "      <td>0.000000</td>\n",
       "      <td>0.924370</td>\n",
       "      <td>0.197872</td>\n",
       "      <td>0</td>\n",
       "      <td>0</td>\n",
       "      <td>0</td>\n",
       "      <td>0</td>\n",
       "      <td>...</td>\n",
       "      <td>0</td>\n",
       "      <td>0</td>\n",
       "      <td>0</td>\n",
       "      <td>0</td>\n",
       "      <td>1</td>\n",
       "      <td>0</td>\n",
       "      <td>0</td>\n",
       "      <td>0</td>\n",
       "      <td>0</td>\n",
       "      <td>0</td>\n",
       "    </tr>\n",
       "    <tr>\n",
       "      <th>1</th>\n",
       "      <td>5114</td>\n",
       "      <td>Fullmetal Alchemist: Brotherhood</td>\n",
       "      <td>TV</td>\n",
       "      <td>0.034673</td>\n",
       "      <td>0.911164</td>\n",
       "      <td>0.782770</td>\n",
       "      <td>1</td>\n",
       "      <td>1</td>\n",
       "      <td>0</td>\n",
       "      <td>0</td>\n",
       "      <td>...</td>\n",
       "      <td>0</td>\n",
       "      <td>0</td>\n",
       "      <td>0</td>\n",
       "      <td>0</td>\n",
       "      <td>0</td>\n",
       "      <td>0</td>\n",
       "      <td>0</td>\n",
       "      <td>0</td>\n",
       "      <td>0</td>\n",
       "      <td>0</td>\n",
       "    </tr>\n",
       "    <tr>\n",
       "      <th>2</th>\n",
       "      <td>28977</td>\n",
       "      <td>Gintama°</td>\n",
       "      <td>TV</td>\n",
       "      <td>0.027518</td>\n",
       "      <td>0.909964</td>\n",
       "      <td>0.112689</td>\n",
       "      <td>1</td>\n",
       "      <td>0</td>\n",
       "      <td>0</td>\n",
       "      <td>1</td>\n",
       "      <td>...</td>\n",
       "      <td>0</td>\n",
       "      <td>0</td>\n",
       "      <td>0</td>\n",
       "      <td>0</td>\n",
       "      <td>0</td>\n",
       "      <td>0</td>\n",
       "      <td>0</td>\n",
       "      <td>0</td>\n",
       "      <td>0</td>\n",
       "      <td>0</td>\n",
       "    </tr>\n",
       "    <tr>\n",
       "      <th>3</th>\n",
       "      <td>9253</td>\n",
       "      <td>Steins;Gate</td>\n",
       "      <td>TV</td>\n",
       "      <td>0.012658</td>\n",
       "      <td>0.900360</td>\n",
       "      <td>0.664325</td>\n",
       "      <td>0</td>\n",
       "      <td>0</td>\n",
       "      <td>0</td>\n",
       "      <td>0</td>\n",
       "      <td>...</td>\n",
       "      <td>0</td>\n",
       "      <td>0</td>\n",
       "      <td>0</td>\n",
       "      <td>0</td>\n",
       "      <td>0</td>\n",
       "      <td>1</td>\n",
       "      <td>0</td>\n",
       "      <td>0</td>\n",
       "      <td>0</td>\n",
       "      <td>0</td>\n",
       "    </tr>\n",
       "    <tr>\n",
       "      <th>4</th>\n",
       "      <td>9969</td>\n",
       "      <td>Gintama&amp;#039;</td>\n",
       "      <td>TV</td>\n",
       "      <td>0.027518</td>\n",
       "      <td>0.899160</td>\n",
       "      <td>0.149186</td>\n",
       "      <td>1</td>\n",
       "      <td>0</td>\n",
       "      <td>0</td>\n",
       "      <td>1</td>\n",
       "      <td>...</td>\n",
       "      <td>0</td>\n",
       "      <td>0</td>\n",
       "      <td>0</td>\n",
       "      <td>0</td>\n",
       "      <td>0</td>\n",
       "      <td>0</td>\n",
       "      <td>0</td>\n",
       "      <td>0</td>\n",
       "      <td>0</td>\n",
       "      <td>0</td>\n",
       "    </tr>\n",
       "  </tbody>\n",
       "</table>\n",
       "<p>5 rows × 50 columns</p>\n",
       "</div>"
      ],
      "text/plain": [
       "   anime_id                              name   type  episodes    rating  \\\n",
       "0     32281                    Kimi no Na wa.  Movie  0.000000  0.924370   \n",
       "1      5114  Fullmetal Alchemist: Brotherhood     TV  0.034673  0.911164   \n",
       "2     28977                          Gintama°     TV  0.027518  0.909964   \n",
       "3      9253                       Steins;Gate     TV  0.012658  0.900360   \n",
       "4      9969                     Gintama&#039;     TV  0.027518  0.899160   \n",
       "\n",
       "    members  Action  Adventure  Cars  Comedy  ...  Slice of Life  Space  \\\n",
       "0  0.197872       0          0     0       0  ...              0      0   \n",
       "1  0.782770       1          1     0       0  ...              0      0   \n",
       "2  0.112689       1          0     0       1  ...              0      0   \n",
       "3  0.664325       0          0     0       0  ...              0      0   \n",
       "4  0.149186       1          0     0       1  ...              0      0   \n",
       "\n",
       "   Sports  Super Power  Supernatural  Thriller  Unknown  Vampire  Yaoi  Yuri  \n",
       "0       0            0             1         0        0        0     0     0  \n",
       "1       0            0             0         0        0        0     0     0  \n",
       "2       0            0             0         0        0        0     0     0  \n",
       "3       0            0             0         1        0        0     0     0  \n",
       "4       0            0             0         0        0        0     0     0  \n",
       "\n",
       "[5 rows x 50 columns]"
      ]
     },
     "execution_count": 22,
     "metadata": {},
     "output_type": "execute_result"
    }
   ],
   "source": [
    "df.head()"
   ]
  }
 ],
 "metadata": {
  "kernelspec": {
   "display_name": "Python [conda env:base] *",
   "language": "python",
   "name": "conda-base-py"
  },
  "language_info": {
   "codemirror_mode": {
    "name": "ipython",
    "version": 3
   },
   "file_extension": ".py",
   "mimetype": "text/x-python",
   "name": "python",
   "nbconvert_exporter": "python",
   "pygments_lexer": "ipython3",
   "version": "3.12.7"
  }
 },
 "nbformat": 4,
 "nbformat_minor": 5
}
