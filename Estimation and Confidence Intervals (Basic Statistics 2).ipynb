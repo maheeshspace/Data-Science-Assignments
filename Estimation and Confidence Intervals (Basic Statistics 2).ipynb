{
 "cells": [
  {
   "cell_type": "code",
   "execution_count": 1,
   "id": "3f300c46-957e-4eb1-816c-a801a904bf19",
   "metadata": {},
   "outputs": [],
   "source": [
    "import numpy as np\n",
    "import scipy.stats as stats"
   ]
  },
  {
   "cell_type": "code",
   "execution_count": 2,
   "id": "0a07d0dc-0925-4877-987b-01f3de3836e4",
   "metadata": {},
   "outputs": [],
   "source": [
    "# Given Data\n",
    "durability= np.array([1.13,1.55,1.43,0.92,1.25,1.36,1.32,0.85,1.07,1.48,1.20,1.33,1.18,1.22,1.29])"
   ]
  },
  {
   "cell_type": "code",
   "execution_count": 3,
   "id": "96f8689d-41ee-4817-b5e7-d7bb401ccaaa",
   "metadata": {},
   "outputs": [],
   "source": [
    "#sample statistics\n",
    "n= len(durability)    #sample size\n",
    "sample_mean= np.mean(durability)\n",
    "samp_std= np.std(durability)"
   ]
  },
  {
   "cell_type": "code",
   "execution_count": 4,
   "id": "a7f49bcf-2dfa-4313-9adb-a81da4f19df4",
   "metadata": {},
   "outputs": [],
   "source": [
    "#confidence level given\n",
    "confidence_level= 0.99\n",
    "alpha=1-confidence_level\n",
    "dof= n-1   # degree of freedom"
   ]
  },
  {
   "cell_type": "raw",
   "id": "29d51865-538b-4226-b888-5269c141571b",
   "metadata": {},
   "source": [
    "Task A: Confidence Interval using sample standard deviation"
   ]
  },
  {
   "cell_type": "code",
   "execution_count": 5,
   "id": "9da55549-6259-441e-aeeb-b3f6a3ede4a9",
   "metadata": {},
   "outputs": [
    {
     "data": {
      "text/plain": [
       "2.976842734370834"
      ]
     },
     "execution_count": 5,
     "metadata": {},
     "output_type": "execute_result"
    }
   ],
   "source": [
    "t_critical= stats.t.ppf(1-alpha/2,dof)\n",
    "t_critical"
   ]
  },
  {
   "cell_type": "code",
   "execution_count": 6,
   "id": "b8df67c4-5a25-46eb-931f-b458c3f9058d",
   "metadata": {},
   "outputs": [
    {
     "data": {
      "text/plain": [
       "0.14343499804054372"
      ]
     },
     "execution_count": 6,
     "metadata": {},
     "output_type": "execute_result"
    }
   ],
   "source": [
    "moe_a= t_critical*(samp_std/np.sqrt(n))  # margin of error\n",
    "moe_a"
   ]
  },
  {
   "cell_type": "code",
   "execution_count": 7,
   "id": "c6a144a5-909d-4e52-86d0-aa67850e5ac3",
   "metadata": {},
   "outputs": [
    {
     "name": "stdout",
     "output_type": "stream",
     "text": [
      "1.095231668626123 1.3821016647072102\n"
     ]
    }
   ],
   "source": [
    "# calculating the range of mean\n",
    "ci_lower_a= sample_mean-moe_a   #lower mean range\n",
    "ci_upper_a= sample_mean+moe_a    #upper mean range\n",
    "print(ci_lower_a, ci_upper_a)"
   ]
  },
  {
   "cell_type": "raw",
   "id": "7b6a5e6b-593e-48e6-8ea9-8053ceff7abc",
   "metadata": {},
   "source": [
    "The mean of population falls between the range 1.095231668626123 and 1.3821016647072102"
   ]
  },
  {
   "cell_type": "raw",
   "id": "679e58ff-6523-4fbd-a229-a12f09543d3a",
   "metadata": {},
   "source": [
    "Task B: Confidence Interval using known population standard deviation"
   ]
  },
  {
   "cell_type": "code",
   "execution_count": 8,
   "id": "39ec88d5-2769-4a4e-95ff-a593e0f67c07",
   "metadata": {},
   "outputs": [],
   "source": [
    "# Given      since standard deviation is given we use z_test\n",
    "pop_std_dev= 0.2"
   ]
  },
  {
   "cell_type": "code",
   "execution_count": 9,
   "id": "61129871-f430-49ae-8a3c-8db49654c946",
   "metadata": {},
   "outputs": [
    {
     "data": {
      "text/plain": [
       "2.5758293035489004"
      ]
     },
     "execution_count": 9,
     "metadata": {},
     "output_type": "execute_result"
    }
   ],
   "source": [
    "z_critical= stats.norm.ppf(1-alpha/2)\n",
    "z_critical"
   ]
  },
  {
   "cell_type": "code",
   "execution_count": 10,
   "id": "23629cf1-ef15-4b71-b71a-05120263eb0a",
   "metadata": {},
   "outputs": [
    {
     "data": {
      "text/plain": [
       "0.13301525327090588"
      ]
     },
     "execution_count": 10,
     "metadata": {},
     "output_type": "execute_result"
    }
   ],
   "source": [
    "moe_b= z_critical*(pop_std_dev/np.sqrt(n))   # margin of error\n",
    "moe_b"
   ]
  },
  {
   "cell_type": "code",
   "execution_count": 11,
   "id": "4130560e-35ad-4202-9ea2-23ecb582dac5",
   "metadata": {},
   "outputs": [
    {
     "name": "stdout",
     "output_type": "stream",
     "text": [
      "1.1056514133957607 1.3716819199375725\n"
     ]
    }
   ],
   "source": [
    "ci_lower_b= sample_mean-moe_b    # lower mean range\n",
    "ci_upper_b= sample_mean+moe_b    # upper mean range\n",
    "print(ci_lower_b, ci_upper_b)"
   ]
  },
  {
   "cell_type": "raw",
   "id": "28d1a9a1-946b-4438-a70a-10e0d027e3bc",
   "metadata": {},
   "source": [
    "The Mean of population falls between the range 1.1056514133957607 and 1.3716819199375725"
   ]
  },
  {
   "cell_type": "code",
   "execution_count": null,
   "id": "5f95ec10-cbfe-47c5-82d9-6ed5fb782fed",
   "metadata": {},
   "outputs": [],
   "source": []
  }
 ],
 "metadata": {
  "kernelspec": {
   "display_name": "Python [conda env:base] *",
   "language": "python",
   "name": "conda-base-py"
  },
  "language_info": {
   "codemirror_mode": {
    "name": "ipython",
    "version": 3
   },
   "file_extension": ".py",
   "mimetype": "text/x-python",
   "name": "python",
   "nbconvert_exporter": "python",
   "pygments_lexer": "ipython3",
   "version": "3.12.7"
  }
 },
 "nbformat": 4,
 "nbformat_minor": 5
}
