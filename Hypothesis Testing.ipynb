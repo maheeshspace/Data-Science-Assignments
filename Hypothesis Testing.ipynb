{
 "cells": [
  {
   "cell_type": "markdown",
   "id": "221b53a5-609b-407e-a9e1-a1c54ecd9368",
   "metadata": {},
   "source": [
    "Bombay hospitality Ltd. operates a franchise model for producing exotic Norwegian dinners throughout New England. The operating cost for a franchise in a week (W) is given by the equation W = $1,000 + $5X, where X represents the number of units produced in a week. Recent feedback from restaurant owners suggests that this cost model may no longer be accurate, as their observed weekly operating costs are higher."
   ]
  },
  {
   "cell_type": "markdown",
   "id": "358d21f3-c953-4534-a6a7-9e49dbb85563",
   "metadata": {},
   "source": [
    "## 1. State the Hypothesis Statements"
   ]
  },
  {
   "cell_type": "markdown",
   "id": "a5bb239b-bef7-4c2d-b42e-b0714c9dc8da",
   "metadata": {},
   "source": [
    "Null Hypothesis (H0) : The mean weekly operating cost is equal to the theoritical model. \n",
    "\n",
    "Alternative Hypothesis (Ha): The mean weekly operating cost is greater than theoritical model"
   ]
  },
  {
   "cell_type": "markdown",
   "id": "492b4500-a440-484a-a6bd-075ef27f3e18",
   "metadata": {},
   "source": [
    "## 2. Calculate the Test statistics (t-test) :"
   ]
  },
  {
   "cell_type": "code",
   "execution_count": 5,
   "id": "fda787ba-e354-401e-a359-6ebce1aeb2cd",
   "metadata": {},
   "outputs": [],
   "source": [
    "import pandas as pd\n",
    "import numpy as np\n",
    "import scipy.stats as stats"
   ]
  },
  {
   "cell_type": "code",
   "execution_count": 6,
   "id": "4d4cf85f-0e66-44aa-ba8b-3047091c01fa",
   "metadata": {},
   "outputs": [],
   "source": [
    "## Given data\n",
    "x_bar=3050\n",
    "theoretical_mean=4000\n",
    "std_dev=5*25\n",
    "n=25\n",
    "alpha=0.05"
   ]
  },
  {
   "cell_type": "code",
   "execution_count": 7,
   "id": "659d698a-f3ba-450e-9c73-947e7f778fbf",
   "metadata": {},
   "outputs": [
    {
     "data": {
      "text/plain": [
       "125"
      ]
     },
     "execution_count": 7,
     "metadata": {},
     "output_type": "execute_result"
    }
   ],
   "source": [
    "std_dev"
   ]
  },
  {
   "cell_type": "code",
   "execution_count": 8,
   "id": "9230d052-d9db-446d-9d3b-2bafa0660993",
   "metadata": {},
   "outputs": [
    {
     "data": {
      "text/plain": [
       "-38.0"
      ]
     },
     "execution_count": 8,
     "metadata": {},
     "output_type": "execute_result"
    }
   ],
   "source": [
    "t_stats= (x_bar-theoretical_mean)/(std_dev/np.sqrt(n))\n",
    "t_stats"
   ]
  },
  {
   "cell_type": "code",
   "execution_count": 9,
   "id": "bb09b986-b05f-4a09-af60-0fe2b8a04253",
   "metadata": {},
   "outputs": [
    {
     "data": {
      "text/plain": [
       "24"
      ]
     },
     "execution_count": 9,
     "metadata": {},
     "output_type": "execute_result"
    }
   ],
   "source": [
    "df=n-1\n",
    "df"
   ]
  },
  {
   "cell_type": "markdown",
   "id": "32761c45-be74-4059-ad42-2f8711a7c264",
   "metadata": {},
   "source": [
    "## 3. Determine the Critical Value"
   ]
  },
  {
   "cell_type": "code",
   "execution_count": 11,
   "id": "66fcddb9-9ef1-4228-9e89-334f62449c97",
   "metadata": {},
   "outputs": [
    {
     "data": {
      "text/plain": [
       "1.6448536269514722"
      ]
     },
     "execution_count": 11,
     "metadata": {},
     "output_type": "execute_result"
    }
   ],
   "source": [
    "t_critical= stats.norm.ppf(1-alpha)\n",
    "t_critical"
   ]
  },
  {
   "cell_type": "code",
   "execution_count": 12,
   "id": "cd0fcb74-e32f-4e9a-8fea-7ad9ddd496c5",
   "metadata": {},
   "outputs": [
    {
     "data": {
      "text/plain": [
       "-38.0"
      ]
     },
     "execution_count": 12,
     "metadata": {},
     "output_type": "execute_result"
    }
   ],
   "source": [
    "t_stats"
   ]
  },
  {
   "cell_type": "code",
   "execution_count": 13,
   "id": "d27a3f6a-0fed-4dd9-a7b0-1f9ed35a0f86",
   "metadata": {},
   "outputs": [
    {
     "data": {
      "text/plain": [
       "1.6448536269514722"
      ]
     },
     "execution_count": 13,
     "metadata": {},
     "output_type": "execute_result"
    }
   ],
   "source": [
    "t_critical"
   ]
  },
  {
   "cell_type": "markdown",
   "id": "48c5f9a9-1127-46ff-bab4-f4f9de7d54f6",
   "metadata": {},
   "source": [
    "## 4. Make a Decision"
   ]
  },
  {
   "cell_type": "code",
   "execution_count": 15,
   "id": "e522e4c6-a926-41f5-bb5c-e61454d5c3b3",
   "metadata": {},
   "outputs": [
    {
     "name": "stdout",
     "output_type": "stream",
     "text": [
      "Fail to reject the null hypothesis: There is no evidence to support the claim that costs are higher.\n"
     ]
    }
   ],
   "source": [
    "if t_stats> t_critical:\n",
    "    print('Reject the null hypothesis: There is evidence to support the claim that costs are higher.')\n",
    "else:\n",
    "    print('Fail to reject the null hypothesis: There is no evidence to support the claim that costs are higher.')"
   ]
  },
  {
   "cell_type": "markdown",
   "id": "00250085-1cc3-4d07-9d50-70b7b343c637",
   "metadata": {},
   "source": [
    "Hence the mean weekly operating cost is equal to theoretical model."
   ]
  },
  {
   "cell_type": "code",
   "execution_count": null,
   "id": "f99841d1-6d69-402e-a973-bb01c5f5f37b",
   "metadata": {},
   "outputs": [],
   "source": []
  }
 ],
 "metadata": {
  "kernelspec": {
   "display_name": "Python [conda env:base] *",
   "language": "python",
   "name": "conda-base-py"
  },
  "language_info": {
   "codemirror_mode": {
    "name": "ipython",
    "version": 3
   },
   "file_extension": ".py",
   "mimetype": "text/x-python",
   "name": "python",
   "nbconvert_exporter": "python",
   "pygments_lexer": "ipython3",
   "version": "3.12.7"
  }
 },
 "nbformat": 4,
 "nbformat_minor": 5
}
