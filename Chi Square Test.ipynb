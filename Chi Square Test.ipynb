{
 "cells": [
  {
   "cell_type": "code",
   "execution_count": 1,
   "id": "bfd1c4c7-26a4-43c5-9239-464e8009da32",
   "metadata": {},
   "outputs": [],
   "source": [
    "import pandas as pd\n",
    "import numpy as np\n",
    "from scipy.stats import chi2,chi2_contingency"
   ]
  },
  {
   "cell_type": "markdown",
   "id": "a78f842d-968f-4d01-8b29-45e4fae1f921",
   "metadata": {},
   "source": [
    "## 1. State the Hypothesis"
   ]
  },
  {
   "cell_type": "markdown",
   "id": "cd5efeb0-29b5-411e-a778-e9b3f79dea8d",
   "metadata": {},
   "source": [
    "# Null Hypothesis (H0): There is no association between the type of device and customer satisfaction levels\n",
    "# Alternative Hypothesis(Ha): There is an association between type of device and customer satisfaction levels"
   ]
  },
  {
   "cell_type": "markdown",
   "id": "7f9e1aeb-ba10-4e5b-90d4-a71276efd87e",
   "metadata": {},
   "source": [
    "## 2. Compute the Chi_square statistics"
   ]
  },
  {
   "cell_type": "code",
   "execution_count": 28,
   "id": "20b7d1fc-7b16-44d8-92b0-40705ddffb88",
   "metadata": {},
   "outputs": [],
   "source": [
    "observed= np.array([[50,70],[80,100],[60,90],[30,50],[20,50]])"
   ]
  },
  {
   "cell_type": "code",
   "execution_count": 24,
   "id": "b2534356-7605-44bb-82ec-6629b56200cb",
   "metadata": {},
   "outputs": [
    {
     "data": {
      "text/plain": [
       "array([[ 50,  70],\n",
       "       [ 80, 100],\n",
       "       [ 60,  90],\n",
       "       [ 30,  50],\n",
       "       [ 20,  50]])"
      ]
     },
     "execution_count": 24,
     "metadata": {},
     "output_type": "execute_result"
    }
   ],
   "source": [
    "observed"
   ]
  },
  {
   "cell_type": "code",
   "execution_count": 32,
   "id": "2f5229a0-6783-4933-9337-f7cca4307b55",
   "metadata": {},
   "outputs": [],
   "source": [
    "chi2_stats, p, dof, expected= stats.chi2_contingency(observed)"
   ]
  },
  {
   "cell_type": "code",
   "execution_count": 34,
   "id": "df082b44-07c3-40de-9701-b8b68910aaae",
   "metadata": {},
   "outputs": [
    {
     "data": {
      "text/plain": [
       "5.638227513227513"
      ]
     },
     "execution_count": 34,
     "metadata": {},
     "output_type": "execute_result"
    }
   ],
   "source": [
    "chi2_stats"
   ]
  },
  {
   "cell_type": "code",
   "execution_count": 36,
   "id": "63220406-949f-4c93-9d2f-a6960a8b6973",
   "metadata": {},
   "outputs": [
    {
     "data": {
      "text/plain": [
       "0.22784371130697179"
      ]
     },
     "execution_count": 36,
     "metadata": {},
     "output_type": "execute_result"
    }
   ],
   "source": [
    "p"
   ]
  },
  {
   "cell_type": "code",
   "execution_count": 38,
   "id": "7d650324-258c-4e3c-86b6-b9cbbe7b88a0",
   "metadata": {},
   "outputs": [
    {
     "data": {
      "text/plain": [
       "4"
      ]
     },
     "execution_count": 38,
     "metadata": {},
     "output_type": "execute_result"
    }
   ],
   "source": [
    "dof"
   ]
  },
  {
   "cell_type": "code",
   "execution_count": 40,
   "id": "d403ebe8-0182-4b9c-826d-06b0dd87f686",
   "metadata": {},
   "outputs": [
    {
     "data": {
      "text/plain": [
       "array([[ 48.,  72.],\n",
       "       [ 72., 108.],\n",
       "       [ 60.,  90.],\n",
       "       [ 32.,  48.],\n",
       "       [ 28.,  42.]])"
      ]
     },
     "execution_count": 40,
     "metadata": {},
     "output_type": "execute_result"
    }
   ],
   "source": [
    "expected"
   ]
  },
  {
   "cell_type": "markdown",
   "id": "4af24980-a56c-4343-a1f5-4f57659c48cb",
   "metadata": {},
   "source": [
    "## 3. Critical Value"
   ]
  },
  {
   "cell_type": "code",
   "execution_count": 43,
   "id": "38c70659-dfd6-4f5c-8347-6c873c7586c7",
   "metadata": {},
   "outputs": [],
   "source": [
    "alpha=0.05\n",
    "chi_critical= stats.chi2.ppf(1-alpha,dof)"
   ]
  },
  {
   "cell_type": "code",
   "execution_count": 45,
   "id": "bcbb9e7d-cc16-4b44-9a0a-b09be78ba8cb",
   "metadata": {},
   "outputs": [
    {
     "data": {
      "text/plain": [
       "9.487729036781154"
      ]
     },
     "execution_count": 45,
     "metadata": {},
     "output_type": "execute_result"
    }
   ],
   "source": [
    "chi_critical"
   ]
  },
  {
   "cell_type": "markdown",
   "id": "f37d5b04-498a-4fb6-bf15-aad94091952a",
   "metadata": {},
   "source": [
    "## 4. Decison"
   ]
  },
  {
   "cell_type": "code",
   "execution_count": 50,
   "id": "5c06da0b-27cc-480a-8141-076da99c2a94",
   "metadata": {},
   "outputs": [
    {
     "name": "stdout",
     "output_type": "stream",
     "text": [
      "Fail to Reject the Null Hypothesis: There is significance between device type and customer satisfaction.\n"
     ]
    }
   ],
   "source": [
    "if chi2_stats>chi_critical:\n",
    "    print('Reject the Null Hypothesis: There is no significance between device type and customer satisfaction.')\n",
    "else:\n",
    "    print('Fail to Reject the Null Hypothesis: There is significance between device type and customer satisfaction.')"
   ]
  },
  {
   "cell_type": "code",
   "execution_count": null,
   "id": "e72abe39-5f11-49c7-8651-c9a708e7823f",
   "metadata": {},
   "outputs": [],
   "source": []
  }
 ],
 "metadata": {
  "kernelspec": {
   "display_name": "Python [conda env:base] *",
   "language": "python",
   "name": "conda-base-py"
  },
  "language_info": {
   "codemirror_mode": {
    "name": "ipython",
    "version": 3
   },
   "file_extension": ".py",
   "mimetype": "text/x-python",
   "name": "python",
   "nbconvert_exporter": "python",
   "pygments_lexer": "ipython3",
   "version": "3.12.7"
  }
 },
 "nbformat": 4,
 "nbformat_minor": 5
}
