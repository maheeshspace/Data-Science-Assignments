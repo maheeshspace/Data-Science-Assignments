{
 "cells": [
  {
   "cell_type": "markdown",
   "id": "2f912569-89e7-4bdc-835e-e7541bac1322",
   "metadata": {},
   "source": [
    "## 1. Prime Numbers"
   ]
  },
  {
   "cell_type": "code",
   "execution_count": 2,
   "id": "541758e3-85a6-4034-8b06-88d6773759c6",
   "metadata": {},
   "outputs": [
    {
     "name": "stdin",
     "output_type": "stream",
     "text": [
      "Enter a number 11\n"
     ]
    },
    {
     "name": "stdout",
     "output_type": "stream",
     "text": [
      "11  is a prime number\n"
     ]
    }
   ],
   "source": [
    "\n",
    "def is_prime(number):    ## check if a number is prime number\n",
    "    if number<=1:\n",
    "        return print(number,' is not a prime number')\n",
    "    for i in range(2,int(number**0.5)+1):   # \n",
    "        if number%i==0:\n",
    "            return print(number,' is not a prime number')\n",
    "        else:\n",
    "            return print(number,' is a prime number')\n",
    "try:                                      # try ensure it executes only integer values\n",
    "    number= int(input('Enter a number'))   # user input\n",
    "    is_prime(number)\n",
    "except ValueError:   # validate entered number is integer or not\n",
    "    print('Please enter a valid integer')\n",
    "    "
   ]
  },
  {
   "cell_type": "markdown",
   "id": "a855c3b6-48a8-467d-b3af-44571f3627be",
   "metadata": {},
   "source": [
    "## 2.Product of Random Numbers"
   ]
  },
  {
   "cell_type": "code",
   "execution_count": 9,
   "id": "3bd7c1cf-e072-469d-827d-19929883b804",
   "metadata": {},
   "outputs": [
    {
     "name": "stdout",
     "output_type": "stream",
     "text": [
      "What is the product of 4 and 2?\n"
     ]
    },
    {
     "name": "stdin",
     "output_type": "stream",
     "text": [
      "Enter your answer:  9\n"
     ]
    },
    {
     "name": "stdout",
     "output_type": "stream",
     "text": [
      "Incorrect. The correct answer is 8\n"
     ]
    }
   ],
   "source": [
    "import random\n",
    "num1= random.randint(1,10)  # random numbers picked from 1 to 10\n",
    "num2= random.randint(1,10)\n",
    "correct_product= num1*num2   # product of two random numbers\n",
    "print(f'What is the product of {num1} and {num2}?')\n",
    "try:\n",
    "    user_ans= int(input('Enter your answer: '))   # asking user input\n",
    "    if user_ans==correct_product:\n",
    "        print('Correct! Well done!')\n",
    "    else:\n",
    "        print(f'Incorrect. The correct answer is {correct_product}')\n",
    "except ValueError:     # validates the entered value is integer\n",
    "    print('Enter a valid integer')"
   ]
  },
  {
   "cell_type": "markdown",
   "id": "4cfb3e97-3d92-43e2-809a-96aab898115c",
   "metadata": {},
   "source": [
    "## 3. Squares of Even/Odd Numbers"
   ]
  },
  {
   "cell_type": "code",
   "execution_count": 23,
   "id": "eaccc95b-0405-41db-820e-5bce4f4e82c1",
   "metadata": {},
   "outputs": [
    {
     "name": "stdin",
     "output_type": "stream",
     "text": [
      "Enter even/odd to get respective squares between 100 to 200 :  odd\n"
     ]
    },
    {
     "name": "stdout",
     "output_type": "stream",
     "text": [
      "The square of odd numbers between 100 to 200 are:  [10201, 10609, 11025, 11449, 11881, 12321, 12769, 13225, 13689, 14161, 14641, 15129, 15625, 16129, 16641, 17161, 17689, 18225, 18769, 19321, 19881, 20449, 21025, 21609, 22201, 22801, 23409, 24025, 24649, 25281, 25921, 26569, 27225, 27889, 28561, 29241, 29929, 30625, 31329, 32041, 32761, 33489, 34225, 34969, 35721, 36481, 37249, 38025, 38809, 39601]\n"
     ]
    }
   ],
   "source": [
    "user_choice= str(input('Enter even/odd to get respective squares between 100 to 200 : '))  # user choice of even/odd\n",
    "even=[]  # empty list of even/odd\n",
    "odd=[]\n",
    "for i in range(100,201):  \n",
    "    if i%2==0:          # validate even number\n",
    "        even.append(i*i)   # square of even number added to list\n",
    "    else:\n",
    "        odd.append(i*i)   # square of odd number added to list\n",
    "if user_choice=='even':    \n",
    "    print('The square of even numbers between 100 to 200 are: ',even)      #respective squares of user_choice\n",
    "else:\n",
    "    print('The square of odd numbers between 100 to 200 are: ',odd)\n",
    "        "
   ]
  },
  {
   "cell_type": "code",
   "execution_count": null,
   "id": "6d7ed9a2-ad13-44fc-87de-cd95dbcf30cb",
   "metadata": {},
   "outputs": [],
   "source": []
  },
  {
   "cell_type": "markdown",
   "id": "0d867430-21d6-4197-aab5-106752f060dc",
   "metadata": {},
   "source": [
    "## 4.Word Counter"
   ]
  },
  {
   "cell_type": "code",
   "execution_count": 81,
   "id": "1940a31b-c2e0-46f0-a756-b43cc8db28de",
   "metadata": {},
   "outputs": [
    {
     "name": "stdin",
     "output_type": "stream",
     "text": [
      "Enter a small note :  I am maheesh from hyderabad. I am a Data Scientist.\n"
     ]
    },
    {
     "name": "stdout",
     "output_type": "stream",
     "text": [
      "i':2\n",
      "am':2\n",
      "maheesh':1\n",
      "from':1\n",
      "hyderabad.':1\n",
      "a':1\n",
      "data':1\n",
      "scientist.':1\n"
     ]
    }
   ],
   "source": [
    "user_input= str(input('Enter a small note : '))  # user input\n",
    "\n",
    "words= user_input.lower().split()  # convert text to lowercase and split used to split each word\n",
    "words_count= {}  # empty dictionary to store word\n",
    "\n",
    "for i in words:\n",
    "    if i in words_count:\n",
    "        words_count[i] +=1  # repeated word count increased\n",
    "    else:\n",
    "        words_count[i]=1\n",
    "\n",
    "for i,count in words_count.items():\n",
    "    print(f\"{i}':{count}\")"
   ]
  },
  {
   "cell_type": "markdown",
   "id": "2a934d96-cd2b-43c6-9012-e8dec7012c11",
   "metadata": {},
   "source": [
    "## 5.Palindrome"
   ]
  },
  {
   "cell_type": "code",
   "execution_count": 100,
   "id": "76119ef5-6645-486f-92a4-9aeeb4e1d300",
   "metadata": {},
   "outputs": [
    {
     "name": "stdin",
     "output_type": "stream",
     "text": [
      "Enter a word,phrase or number to check whether its a palindrome : racecar\n"
     ]
    },
    {
     "name": "stdout",
     "output_type": "stream",
     "text": [
      "racecar is a Palindrome\n"
     ]
    },
    {
     "data": {
      "text/plain": [
       "True"
      ]
     },
     "execution_count": 100,
     "metadata": {},
     "output_type": "execute_result"
    }
   ],
   "source": [
    "def is_palindrome(string):  \n",
    "    rev_string= string[::-1]    # reverse string given\n",
    "    if rev_string==string:\n",
    "        print(f'{string} is a Palindrome')\n",
    "        return True     # string is palindrome then returns true\n",
    "    else:\n",
    "        print(f'{string} is not a Palindrome')   # returns false if string is not palindrome\n",
    "        return False\n",
    "\n",
    "string= input('Enter a word,phrase or number to check whether its a palindrome :')    # user input\n",
    "is_palindrome(string) "
   ]
  },
  {
   "cell_type": "code",
   "execution_count": null,
   "id": "2eb446a0-e197-46b1-9131-1526b59e0bf2",
   "metadata": {},
   "outputs": [],
   "source": []
  }
 ],
 "metadata": {
  "kernelspec": {
   "display_name": "Python [conda env:base] *",
   "language": "python",
   "name": "conda-base-py"
  },
  "language_info": {
   "codemirror_mode": {
    "name": "ipython",
    "version": 3
   },
   "file_extension": ".py",
   "mimetype": "text/x-python",
   "name": "python",
   "nbconvert_exporter": "python",
   "pygments_lexer": "ipython3",
   "version": "3.12.7"
  }
 },
 "nbformat": 4,
 "nbformat_minor": 5
}
