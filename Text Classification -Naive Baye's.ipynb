{
 "cells": [
  {
   "cell_type": "code",
   "execution_count": 4,
   "id": "bd32ff30-b1dd-452d-be9c-932041866d4c",
   "metadata": {},
   "outputs": [],
   "source": [
    "import pandas as pd\n",
    "import numpy as np\n",
    "import matplotlib.pyplot as plt\n",
    "import seaborn as sns\n",
    "from sklearn.model_selection import train_test_split\n",
    "import warnings\n",
    "warnings.filterwarnings('ignore')"
   ]
  },
  {
   "cell_type": "code",
   "execution_count": 6,
   "id": "f92c4e76-8b82-48e4-8947-d61cfe3ce35a",
   "metadata": {},
   "outputs": [
    {
     "data": {
      "text/html": [
       "<div>\n",
       "<style scoped>\n",
       "    .dataframe tbody tr th:only-of-type {\n",
       "        vertical-align: middle;\n",
       "    }\n",
       "\n",
       "    .dataframe tbody tr th {\n",
       "        vertical-align: top;\n",
       "    }\n",
       "\n",
       "    .dataframe thead th {\n",
       "        text-align: right;\n",
       "    }\n",
       "</style>\n",
       "<table border=\"1\" class=\"dataframe\">\n",
       "  <thead>\n",
       "    <tr style=\"text-align: right;\">\n",
       "      <th></th>\n",
       "      <th>Data</th>\n",
       "      <th>Labels</th>\n",
       "    </tr>\n",
       "  </thead>\n",
       "  <tbody>\n",
       "    <tr>\n",
       "      <th>0</th>\n",
       "      <td>Path: cantaloupe.srv.cs.cmu.edu!magnesium.club...</td>\n",
       "      <td>alt.atheism</td>\n",
       "    </tr>\n",
       "    <tr>\n",
       "      <th>1</th>\n",
       "      <td>Newsgroups: alt.atheism\\nPath: cantaloupe.srv....</td>\n",
       "      <td>alt.atheism</td>\n",
       "    </tr>\n",
       "    <tr>\n",
       "      <th>2</th>\n",
       "      <td>Path: cantaloupe.srv.cs.cmu.edu!das-news.harva...</td>\n",
       "      <td>alt.atheism</td>\n",
       "    </tr>\n",
       "    <tr>\n",
       "      <th>3</th>\n",
       "      <td>Path: cantaloupe.srv.cs.cmu.edu!magnesium.club...</td>\n",
       "      <td>alt.atheism</td>\n",
       "    </tr>\n",
       "    <tr>\n",
       "      <th>4</th>\n",
       "      <td>Xref: cantaloupe.srv.cs.cmu.edu alt.atheism:53...</td>\n",
       "      <td>alt.atheism</td>\n",
       "    </tr>\n",
       "  </tbody>\n",
       "</table>\n",
       "</div>"
      ],
      "text/plain": [
       "                                                Data       Labels\n",
       "0  Path: cantaloupe.srv.cs.cmu.edu!magnesium.club...  alt.atheism\n",
       "1  Newsgroups: alt.atheism\\nPath: cantaloupe.srv....  alt.atheism\n",
       "2  Path: cantaloupe.srv.cs.cmu.edu!das-news.harva...  alt.atheism\n",
       "3  Path: cantaloupe.srv.cs.cmu.edu!magnesium.club...  alt.atheism\n",
       "4  Xref: cantaloupe.srv.cs.cmu.edu alt.atheism:53...  alt.atheism"
      ]
     },
     "execution_count": 6,
     "metadata": {},
     "output_type": "execute_result"
    }
   ],
   "source": [
    "df= pd.read_csv('blogs.csv')\n",
    "df.head()"
   ]
  },
  {
   "cell_type": "code",
   "execution_count": 8,
   "id": "316d4127-7374-44c5-b9e9-6f9f10ac6d97",
   "metadata": {},
   "outputs": [
    {
     "data": {
      "text/plain": [
       "(2000, 2)"
      ]
     },
     "execution_count": 8,
     "metadata": {},
     "output_type": "execute_result"
    }
   ],
   "source": [
    "df.shape"
   ]
  },
  {
   "cell_type": "code",
   "execution_count": 10,
   "id": "c0b2502a-aa35-4c18-9519-345a00a6b817",
   "metadata": {},
   "outputs": [
    {
     "data": {
      "text/plain": [
       "Data      0\n",
       "Labels    0\n",
       "dtype: int64"
      ]
     },
     "execution_count": 10,
     "metadata": {},
     "output_type": "execute_result"
    }
   ],
   "source": [
    "df.isnull().sum()"
   ]
  },
  {
   "cell_type": "code",
   "execution_count": 12,
   "id": "f7e1b5e8-6443-41cc-aa17-a27c24c871e3",
   "metadata": {},
   "outputs": [
    {
     "data": {
      "text/plain": [
       "0"
      ]
     },
     "execution_count": 12,
     "metadata": {},
     "output_type": "execute_result"
    }
   ],
   "source": [
    "df.duplicated().sum()"
   ]
  },
  {
   "cell_type": "code",
   "execution_count": 14,
   "id": "3365c2dd-5c90-4c1f-be52-4507bfa4ee3e",
   "metadata": {},
   "outputs": [
    {
     "data": {
      "text/plain": [
       "array(['alt.atheism', 'comp.graphics', 'comp.os.ms-windows.misc',\n",
       "       'comp.sys.ibm.pc.hardware', 'comp.sys.mac.hardware',\n",
       "       'comp.windows.x', 'misc.forsale', 'rec.autos', 'rec.motorcycles',\n",
       "       'rec.sport.baseball', 'rec.sport.hockey', 'sci.crypt',\n",
       "       'sci.electronics', 'sci.med', 'sci.space',\n",
       "       'soc.religion.christian', 'talk.politics.guns',\n",
       "       'talk.politics.mideast', 'talk.politics.misc',\n",
       "       'talk.religion.misc'], dtype=object)"
      ]
     },
     "execution_count": 14,
     "metadata": {},
     "output_type": "execute_result"
    }
   ],
   "source": [
    "df['Labels'].unique()"
   ]
  },
  {
   "cell_type": "code",
   "execution_count": 16,
   "id": "6a6eaf26-c605-4477-b2b1-1c1923d45b2a",
   "metadata": {},
   "outputs": [
    {
     "data": {
      "text/plain": [
       "Labels\n",
       "alt.atheism                 100\n",
       "comp.graphics               100\n",
       "talk.politics.misc          100\n",
       "talk.politics.mideast       100\n",
       "talk.politics.guns          100\n",
       "soc.religion.christian      100\n",
       "sci.space                   100\n",
       "sci.med                     100\n",
       "sci.electronics             100\n",
       "sci.crypt                   100\n",
       "rec.sport.hockey            100\n",
       "rec.sport.baseball          100\n",
       "rec.motorcycles             100\n",
       "rec.autos                   100\n",
       "misc.forsale                100\n",
       "comp.windows.x              100\n",
       "comp.sys.mac.hardware       100\n",
       "comp.sys.ibm.pc.hardware    100\n",
       "comp.os.ms-windows.misc     100\n",
       "talk.religion.misc          100\n",
       "Name: count, dtype: int64"
      ]
     },
     "execution_count": 16,
     "metadata": {},
     "output_type": "execute_result"
    }
   ],
   "source": [
    "df['Labels'].value_counts()"
   ]
  },
  {
   "cell_type": "markdown",
   "id": "98890277-2bc1-40bc-b4ce-4fa50f0d3701",
   "metadata": {},
   "source": [
    "## Text Preprocessing"
   ]
  },
  {
   "cell_type": "code",
   "execution_count": 19,
   "id": "626677e5-8b3a-48aa-908b-4619331c3def",
   "metadata": {},
   "outputs": [
    {
     "name": "stdout",
     "output_type": "stream",
     "text": [
      "Requirement already satisfied: nltk in c:\\users\\maheesh\\anaconda3\\lib\\site-packages (3.9.1)\n",
      "Requirement already satisfied: click in c:\\users\\maheesh\\anaconda3\\lib\\site-packages (from nltk) (8.1.7)\n",
      "Requirement already satisfied: joblib in c:\\users\\maheesh\\anaconda3\\lib\\site-packages (from nltk) (1.4.2)\n",
      "Requirement already satisfied: regex>=2021.8.3 in c:\\users\\maheesh\\anaconda3\\lib\\site-packages (from nltk) (2024.9.11)\n",
      "Requirement already satisfied: tqdm in c:\\users\\maheesh\\anaconda3\\lib\\site-packages (from nltk) (4.66.5)\n",
      "Requirement already satisfied: colorama in c:\\users\\maheesh\\anaconda3\\lib\\site-packages (from click->nltk) (0.4.6)\n",
      "Note: you may need to restart the kernel to use updated packages.\n"
     ]
    }
   ],
   "source": [
    "pip install nltk"
   ]
  },
  {
   "cell_type": "code",
   "execution_count": 33,
   "id": "65c691c9-f623-4167-80a1-53e2ff54d3d1",
   "metadata": {},
   "outputs": [],
   "source": [
    "import nltk\n",
    "import re\n",
    "import string\n",
    "from nltk.corpus import stopwords\n",
    "from nltk.tokenize import word_tokenize"
   ]
  },
  {
   "cell_type": "code",
   "execution_count": 23,
   "id": "3b181db8-e68a-471e-84e0-b4b6468cadac",
   "metadata": {},
   "outputs": [
    {
     "name": "stderr",
     "output_type": "stream",
     "text": [
      "[nltk_data] Downloading package punkt to\n",
      "[nltk_data]     C:\\Users\\Maheesh\\AppData\\Roaming\\nltk_data...\n",
      "[nltk_data]   Unzipping tokenizers\\punkt.zip.\n"
     ]
    },
    {
     "data": {
      "text/plain": [
       "True"
      ]
     },
     "execution_count": 23,
     "metadata": {},
     "output_type": "execute_result"
    }
   ],
   "source": [
    "nltk.download('punkt')"
   ]
  },
  {
   "cell_type": "code",
   "execution_count": 25,
   "id": "799311eb-0dc0-4096-afd9-0f3a8125450b",
   "metadata": {},
   "outputs": [
    {
     "name": "stderr",
     "output_type": "stream",
     "text": [
      "[nltk_data] Downloading package punkt_tab to\n",
      "[nltk_data]     C:\\Users\\Maheesh\\AppData\\Roaming\\nltk_data...\n",
      "[nltk_data]   Unzipping tokenizers\\punkt_tab.zip.\n"
     ]
    },
    {
     "data": {
      "text/plain": [
       "True"
      ]
     },
     "execution_count": 25,
     "metadata": {},
     "output_type": "execute_result"
    }
   ],
   "source": [
    "nltk.download('punkt_tab')"
   ]
  },
  {
   "cell_type": "code",
   "execution_count": 27,
   "id": "5fd08049-79f9-4f41-8701-04bb39164683",
   "metadata": {},
   "outputs": [
    {
     "name": "stderr",
     "output_type": "stream",
     "text": [
      "[nltk_data] Downloading package stopwords to\n",
      "[nltk_data]     C:\\Users\\Maheesh\\AppData\\Roaming\\nltk_data...\n",
      "[nltk_data]   Unzipping corpora\\stopwords.zip.\n"
     ]
    },
    {
     "data": {
      "text/plain": [
       "True"
      ]
     },
     "execution_count": 27,
     "metadata": {},
     "output_type": "execute_result"
    }
   ],
   "source": [
    "nltk.download('stopwords')"
   ]
  },
  {
   "cell_type": "code",
   "execution_count": 37,
   "id": "159ce56b-d365-4214-ae7b-b37b4b893525",
   "metadata": {},
   "outputs": [],
   "source": [
    "def clean_text(text):\n",
    "    text = text.lower()\n",
    "    text = re.sub(r'[^a-z\\s]', '', text)\n",
    "    tokens = word_tokenize(text)\n",
    "    stop_words = set(stopwords.words('english'))\n",
    "    tokens = [word for word in tokens if word not in stop_words]\n",
    "    return ' '.join(tokens)"
   ]
  },
  {
   "cell_type": "code",
   "execution_count": 41,
   "id": "cecd08b9-bb32-421a-97e4-f054ac69182a",
   "metadata": {},
   "outputs": [
    {
     "data": {
      "text/plain": [
       "0    path cantaloupesrvcscmuedumagnesiumclubcccmued...\n",
       "1    newsgroups altatheism path cantaloupesrvcscmue...\n",
       "2    path cantaloupesrvcscmuedudasnewsharvardedunoc...\n",
       "3    path cantaloupesrvcscmuedumagnesiumclubcccmued...\n",
       "4    xref cantaloupesrvcscmuedu altatheism talkreli...\n",
       "Name: cleaned_text, dtype: object"
      ]
     },
     "execution_count": 41,
     "metadata": {},
     "output_type": "execute_result"
    }
   ],
   "source": [
    "df['cleaned_text']= df['Data'].apply(clean_text)\n",
    "df['cleaned_text'].head()"
   ]
  },
  {
   "cell_type": "code",
   "execution_count": 43,
   "id": "a2ae1124-f199-44f2-984c-9e22bb40fc4f",
   "metadata": {},
   "outputs": [],
   "source": [
    "# feature extraction\n",
    "from sklearn.feature_extraction.text import TfidfVectorizer"
   ]
  },
  {
   "cell_type": "code",
   "execution_count": 45,
   "id": "9f41c4d0-275e-4569-8e5d-8bc01176fb8f",
   "metadata": {},
   "outputs": [
    {
     "name": "stdout",
     "output_type": "stream",
     "text": [
      "(2000, 46006)\n"
     ]
    }
   ],
   "source": [
    "vectorizer= TfidfVectorizer()\n",
    "x= vectorizer.fit_transform(df['cleaned_text'])\n",
    "print(x.shape)"
   ]
  },
  {
   "cell_type": "markdown",
   "id": "618b8123-68ee-43e9-a1ee-fceb978b2efd",
   "metadata": {},
   "source": [
    "## Naive Baye's modeling"
   ]
  },
  {
   "cell_type": "code",
   "execution_count": 48,
   "id": "88961306-f520-44e3-8281-02b3339437a3",
   "metadata": {},
   "outputs": [],
   "source": [
    "from sklearn.naive_bayes import MultinomialNB\n",
    "from sklearn.metrics import accuracy_score,classification_report"
   ]
  },
  {
   "cell_type": "code",
   "execution_count": 50,
   "id": "d9a53cdc-7bcf-4035-8ba0-cd1bb654e5d5",
   "metadata": {},
   "outputs": [],
   "source": [
    "x_train,x_test,y_train,y_test= train_test_split(x,df['Labels'],test_size=0.2,random_state=42)  # splitting dataset"
   ]
  },
  {
   "cell_type": "code",
   "execution_count": 52,
   "id": "0e439c86-5f7d-4a76-9eb7-009da5bf7d7b",
   "metadata": {},
   "outputs": [
    {
     "name": "stdout",
     "output_type": "stream",
     "text": [
      "(1600, 46006)\n",
      "(400, 46006)\n",
      "(1600,)\n",
      "(400,)\n"
     ]
    }
   ],
   "source": [
    "print(x_train.shape)\n",
    "print(x_test.shape)\n",
    "print(y_train.shape)\n",
    "print(y_test.shape)"
   ]
  },
  {
   "cell_type": "code",
   "execution_count": 54,
   "id": "c003021e-83bd-434c-91ae-290fbff7c9de",
   "metadata": {},
   "outputs": [
    {
     "data": {
      "text/html": [
       "<style>#sk-container-id-1 {\n",
       "  /* Definition of color scheme common for light and dark mode */\n",
       "  --sklearn-color-text: black;\n",
       "  --sklearn-color-line: gray;\n",
       "  /* Definition of color scheme for unfitted estimators */\n",
       "  --sklearn-color-unfitted-level-0: #fff5e6;\n",
       "  --sklearn-color-unfitted-level-1: #f6e4d2;\n",
       "  --sklearn-color-unfitted-level-2: #ffe0b3;\n",
       "  --sklearn-color-unfitted-level-3: chocolate;\n",
       "  /* Definition of color scheme for fitted estimators */\n",
       "  --sklearn-color-fitted-level-0: #f0f8ff;\n",
       "  --sklearn-color-fitted-level-1: #d4ebff;\n",
       "  --sklearn-color-fitted-level-2: #b3dbfd;\n",
       "  --sklearn-color-fitted-level-3: cornflowerblue;\n",
       "\n",
       "  /* Specific color for light theme */\n",
       "  --sklearn-color-text-on-default-background: var(--sg-text-color, var(--theme-code-foreground, var(--jp-content-font-color1, black)));\n",
       "  --sklearn-color-background: var(--sg-background-color, var(--theme-background, var(--jp-layout-color0, white)));\n",
       "  --sklearn-color-border-box: var(--sg-text-color, var(--theme-code-foreground, var(--jp-content-font-color1, black)));\n",
       "  --sklearn-color-icon: #696969;\n",
       "\n",
       "  @media (prefers-color-scheme: dark) {\n",
       "    /* Redefinition of color scheme for dark theme */\n",
       "    --sklearn-color-text-on-default-background: var(--sg-text-color, var(--theme-code-foreground, var(--jp-content-font-color1, white)));\n",
       "    --sklearn-color-background: var(--sg-background-color, var(--theme-background, var(--jp-layout-color0, #111)));\n",
       "    --sklearn-color-border-box: var(--sg-text-color, var(--theme-code-foreground, var(--jp-content-font-color1, white)));\n",
       "    --sklearn-color-icon: #878787;\n",
       "  }\n",
       "}\n",
       "\n",
       "#sk-container-id-1 {\n",
       "  color: var(--sklearn-color-text);\n",
       "}\n",
       "\n",
       "#sk-container-id-1 pre {\n",
       "  padding: 0;\n",
       "}\n",
       "\n",
       "#sk-container-id-1 input.sk-hidden--visually {\n",
       "  border: 0;\n",
       "  clip: rect(1px 1px 1px 1px);\n",
       "  clip: rect(1px, 1px, 1px, 1px);\n",
       "  height: 1px;\n",
       "  margin: -1px;\n",
       "  overflow: hidden;\n",
       "  padding: 0;\n",
       "  position: absolute;\n",
       "  width: 1px;\n",
       "}\n",
       "\n",
       "#sk-container-id-1 div.sk-dashed-wrapped {\n",
       "  border: 1px dashed var(--sklearn-color-line);\n",
       "  margin: 0 0.4em 0.5em 0.4em;\n",
       "  box-sizing: border-box;\n",
       "  padding-bottom: 0.4em;\n",
       "  background-color: var(--sklearn-color-background);\n",
       "}\n",
       "\n",
       "#sk-container-id-1 div.sk-container {\n",
       "  /* jupyter's `normalize.less` sets `[hidden] { display: none; }`\n",
       "     but bootstrap.min.css set `[hidden] { display: none !important; }`\n",
       "     so we also need the `!important` here to be able to override the\n",
       "     default hidden behavior on the sphinx rendered scikit-learn.org.\n",
       "     See: https://github.com/scikit-learn/scikit-learn/issues/21755 */\n",
       "  display: inline-block !important;\n",
       "  position: relative;\n",
       "}\n",
       "\n",
       "#sk-container-id-1 div.sk-text-repr-fallback {\n",
       "  display: none;\n",
       "}\n",
       "\n",
       "div.sk-parallel-item,\n",
       "div.sk-serial,\n",
       "div.sk-item {\n",
       "  /* draw centered vertical line to link estimators */\n",
       "  background-image: linear-gradient(var(--sklearn-color-text-on-default-background), var(--sklearn-color-text-on-default-background));\n",
       "  background-size: 2px 100%;\n",
       "  background-repeat: no-repeat;\n",
       "  background-position: center center;\n",
       "}\n",
       "\n",
       "/* Parallel-specific style estimator block */\n",
       "\n",
       "#sk-container-id-1 div.sk-parallel-item::after {\n",
       "  content: \"\";\n",
       "  width: 100%;\n",
       "  border-bottom: 2px solid var(--sklearn-color-text-on-default-background);\n",
       "  flex-grow: 1;\n",
       "}\n",
       "\n",
       "#sk-container-id-1 div.sk-parallel {\n",
       "  display: flex;\n",
       "  align-items: stretch;\n",
       "  justify-content: center;\n",
       "  background-color: var(--sklearn-color-background);\n",
       "  position: relative;\n",
       "}\n",
       "\n",
       "#sk-container-id-1 div.sk-parallel-item {\n",
       "  display: flex;\n",
       "  flex-direction: column;\n",
       "}\n",
       "\n",
       "#sk-container-id-1 div.sk-parallel-item:first-child::after {\n",
       "  align-self: flex-end;\n",
       "  width: 50%;\n",
       "}\n",
       "\n",
       "#sk-container-id-1 div.sk-parallel-item:last-child::after {\n",
       "  align-self: flex-start;\n",
       "  width: 50%;\n",
       "}\n",
       "\n",
       "#sk-container-id-1 div.sk-parallel-item:only-child::after {\n",
       "  width: 0;\n",
       "}\n",
       "\n",
       "/* Serial-specific style estimator block */\n",
       "\n",
       "#sk-container-id-1 div.sk-serial {\n",
       "  display: flex;\n",
       "  flex-direction: column;\n",
       "  align-items: center;\n",
       "  background-color: var(--sklearn-color-background);\n",
       "  padding-right: 1em;\n",
       "  padding-left: 1em;\n",
       "}\n",
       "\n",
       "\n",
       "/* Toggleable style: style used for estimator/Pipeline/ColumnTransformer box that is\n",
       "clickable and can be expanded/collapsed.\n",
       "- Pipeline and ColumnTransformer use this feature and define the default style\n",
       "- Estimators will overwrite some part of the style using the `sk-estimator` class\n",
       "*/\n",
       "\n",
       "/* Pipeline and ColumnTransformer style (default) */\n",
       "\n",
       "#sk-container-id-1 div.sk-toggleable {\n",
       "  /* Default theme specific background. It is overwritten whether we have a\n",
       "  specific estimator or a Pipeline/ColumnTransformer */\n",
       "  background-color: var(--sklearn-color-background);\n",
       "}\n",
       "\n",
       "/* Toggleable label */\n",
       "#sk-container-id-1 label.sk-toggleable__label {\n",
       "  cursor: pointer;\n",
       "  display: block;\n",
       "  width: 100%;\n",
       "  margin-bottom: 0;\n",
       "  padding: 0.5em;\n",
       "  box-sizing: border-box;\n",
       "  text-align: center;\n",
       "}\n",
       "\n",
       "#sk-container-id-1 label.sk-toggleable__label-arrow:before {\n",
       "  /* Arrow on the left of the label */\n",
       "  content: \"▸\";\n",
       "  float: left;\n",
       "  margin-right: 0.25em;\n",
       "  color: var(--sklearn-color-icon);\n",
       "}\n",
       "\n",
       "#sk-container-id-1 label.sk-toggleable__label-arrow:hover:before {\n",
       "  color: var(--sklearn-color-text);\n",
       "}\n",
       "\n",
       "/* Toggleable content - dropdown */\n",
       "\n",
       "#sk-container-id-1 div.sk-toggleable__content {\n",
       "  max-height: 0;\n",
       "  max-width: 0;\n",
       "  overflow: hidden;\n",
       "  text-align: left;\n",
       "  /* unfitted */\n",
       "  background-color: var(--sklearn-color-unfitted-level-0);\n",
       "}\n",
       "\n",
       "#sk-container-id-1 div.sk-toggleable__content.fitted {\n",
       "  /* fitted */\n",
       "  background-color: var(--sklearn-color-fitted-level-0);\n",
       "}\n",
       "\n",
       "#sk-container-id-1 div.sk-toggleable__content pre {\n",
       "  margin: 0.2em;\n",
       "  border-radius: 0.25em;\n",
       "  color: var(--sklearn-color-text);\n",
       "  /* unfitted */\n",
       "  background-color: var(--sklearn-color-unfitted-level-0);\n",
       "}\n",
       "\n",
       "#sk-container-id-1 div.sk-toggleable__content.fitted pre {\n",
       "  /* unfitted */\n",
       "  background-color: var(--sklearn-color-fitted-level-0);\n",
       "}\n",
       "\n",
       "#sk-container-id-1 input.sk-toggleable__control:checked~div.sk-toggleable__content {\n",
       "  /* Expand drop-down */\n",
       "  max-height: 200px;\n",
       "  max-width: 100%;\n",
       "  overflow: auto;\n",
       "}\n",
       "\n",
       "#sk-container-id-1 input.sk-toggleable__control:checked~label.sk-toggleable__label-arrow:before {\n",
       "  content: \"▾\";\n",
       "}\n",
       "\n",
       "/* Pipeline/ColumnTransformer-specific style */\n",
       "\n",
       "#sk-container-id-1 div.sk-label input.sk-toggleable__control:checked~label.sk-toggleable__label {\n",
       "  color: var(--sklearn-color-text);\n",
       "  background-color: var(--sklearn-color-unfitted-level-2);\n",
       "}\n",
       "\n",
       "#sk-container-id-1 div.sk-label.fitted input.sk-toggleable__control:checked~label.sk-toggleable__label {\n",
       "  background-color: var(--sklearn-color-fitted-level-2);\n",
       "}\n",
       "\n",
       "/* Estimator-specific style */\n",
       "\n",
       "/* Colorize estimator box */\n",
       "#sk-container-id-1 div.sk-estimator input.sk-toggleable__control:checked~label.sk-toggleable__label {\n",
       "  /* unfitted */\n",
       "  background-color: var(--sklearn-color-unfitted-level-2);\n",
       "}\n",
       "\n",
       "#sk-container-id-1 div.sk-estimator.fitted input.sk-toggleable__control:checked~label.sk-toggleable__label {\n",
       "  /* fitted */\n",
       "  background-color: var(--sklearn-color-fitted-level-2);\n",
       "}\n",
       "\n",
       "#sk-container-id-1 div.sk-label label.sk-toggleable__label,\n",
       "#sk-container-id-1 div.sk-label label {\n",
       "  /* The background is the default theme color */\n",
       "  color: var(--sklearn-color-text-on-default-background);\n",
       "}\n",
       "\n",
       "/* On hover, darken the color of the background */\n",
       "#sk-container-id-1 div.sk-label:hover label.sk-toggleable__label {\n",
       "  color: var(--sklearn-color-text);\n",
       "  background-color: var(--sklearn-color-unfitted-level-2);\n",
       "}\n",
       "\n",
       "/* Label box, darken color on hover, fitted */\n",
       "#sk-container-id-1 div.sk-label.fitted:hover label.sk-toggleable__label.fitted {\n",
       "  color: var(--sklearn-color-text);\n",
       "  background-color: var(--sklearn-color-fitted-level-2);\n",
       "}\n",
       "\n",
       "/* Estimator label */\n",
       "\n",
       "#sk-container-id-1 div.sk-label label {\n",
       "  font-family: monospace;\n",
       "  font-weight: bold;\n",
       "  display: inline-block;\n",
       "  line-height: 1.2em;\n",
       "}\n",
       "\n",
       "#sk-container-id-1 div.sk-label-container {\n",
       "  text-align: center;\n",
       "}\n",
       "\n",
       "/* Estimator-specific */\n",
       "#sk-container-id-1 div.sk-estimator {\n",
       "  font-family: monospace;\n",
       "  border: 1px dotted var(--sklearn-color-border-box);\n",
       "  border-radius: 0.25em;\n",
       "  box-sizing: border-box;\n",
       "  margin-bottom: 0.5em;\n",
       "  /* unfitted */\n",
       "  background-color: var(--sklearn-color-unfitted-level-0);\n",
       "}\n",
       "\n",
       "#sk-container-id-1 div.sk-estimator.fitted {\n",
       "  /* fitted */\n",
       "  background-color: var(--sklearn-color-fitted-level-0);\n",
       "}\n",
       "\n",
       "/* on hover */\n",
       "#sk-container-id-1 div.sk-estimator:hover {\n",
       "  /* unfitted */\n",
       "  background-color: var(--sklearn-color-unfitted-level-2);\n",
       "}\n",
       "\n",
       "#sk-container-id-1 div.sk-estimator.fitted:hover {\n",
       "  /* fitted */\n",
       "  background-color: var(--sklearn-color-fitted-level-2);\n",
       "}\n",
       "\n",
       "/* Specification for estimator info (e.g. \"i\" and \"?\") */\n",
       "\n",
       "/* Common style for \"i\" and \"?\" */\n",
       "\n",
       ".sk-estimator-doc-link,\n",
       "a:link.sk-estimator-doc-link,\n",
       "a:visited.sk-estimator-doc-link {\n",
       "  float: right;\n",
       "  font-size: smaller;\n",
       "  line-height: 1em;\n",
       "  font-family: monospace;\n",
       "  background-color: var(--sklearn-color-background);\n",
       "  border-radius: 1em;\n",
       "  height: 1em;\n",
       "  width: 1em;\n",
       "  text-decoration: none !important;\n",
       "  margin-left: 1ex;\n",
       "  /* unfitted */\n",
       "  border: var(--sklearn-color-unfitted-level-1) 1pt solid;\n",
       "  color: var(--sklearn-color-unfitted-level-1);\n",
       "}\n",
       "\n",
       ".sk-estimator-doc-link.fitted,\n",
       "a:link.sk-estimator-doc-link.fitted,\n",
       "a:visited.sk-estimator-doc-link.fitted {\n",
       "  /* fitted */\n",
       "  border: var(--sklearn-color-fitted-level-1) 1pt solid;\n",
       "  color: var(--sklearn-color-fitted-level-1);\n",
       "}\n",
       "\n",
       "/* On hover */\n",
       "div.sk-estimator:hover .sk-estimator-doc-link:hover,\n",
       ".sk-estimator-doc-link:hover,\n",
       "div.sk-label-container:hover .sk-estimator-doc-link:hover,\n",
       ".sk-estimator-doc-link:hover {\n",
       "  /* unfitted */\n",
       "  background-color: var(--sklearn-color-unfitted-level-3);\n",
       "  color: var(--sklearn-color-background);\n",
       "  text-decoration: none;\n",
       "}\n",
       "\n",
       "div.sk-estimator.fitted:hover .sk-estimator-doc-link.fitted:hover,\n",
       ".sk-estimator-doc-link.fitted:hover,\n",
       "div.sk-label-container:hover .sk-estimator-doc-link.fitted:hover,\n",
       ".sk-estimator-doc-link.fitted:hover {\n",
       "  /* fitted */\n",
       "  background-color: var(--sklearn-color-fitted-level-3);\n",
       "  color: var(--sklearn-color-background);\n",
       "  text-decoration: none;\n",
       "}\n",
       "\n",
       "/* Span, style for the box shown on hovering the info icon */\n",
       ".sk-estimator-doc-link span {\n",
       "  display: none;\n",
       "  z-index: 9999;\n",
       "  position: relative;\n",
       "  font-weight: normal;\n",
       "  right: .2ex;\n",
       "  padding: .5ex;\n",
       "  margin: .5ex;\n",
       "  width: min-content;\n",
       "  min-width: 20ex;\n",
       "  max-width: 50ex;\n",
       "  color: var(--sklearn-color-text);\n",
       "  box-shadow: 2pt 2pt 4pt #999;\n",
       "  /* unfitted */\n",
       "  background: var(--sklearn-color-unfitted-level-0);\n",
       "  border: .5pt solid var(--sklearn-color-unfitted-level-3);\n",
       "}\n",
       "\n",
       ".sk-estimator-doc-link.fitted span {\n",
       "  /* fitted */\n",
       "  background: var(--sklearn-color-fitted-level-0);\n",
       "  border: var(--sklearn-color-fitted-level-3);\n",
       "}\n",
       "\n",
       ".sk-estimator-doc-link:hover span {\n",
       "  display: block;\n",
       "}\n",
       "\n",
       "/* \"?\"-specific style due to the `<a>` HTML tag */\n",
       "\n",
       "#sk-container-id-1 a.estimator_doc_link {\n",
       "  float: right;\n",
       "  font-size: 1rem;\n",
       "  line-height: 1em;\n",
       "  font-family: monospace;\n",
       "  background-color: var(--sklearn-color-background);\n",
       "  border-radius: 1rem;\n",
       "  height: 1rem;\n",
       "  width: 1rem;\n",
       "  text-decoration: none;\n",
       "  /* unfitted */\n",
       "  color: var(--sklearn-color-unfitted-level-1);\n",
       "  border: var(--sklearn-color-unfitted-level-1) 1pt solid;\n",
       "}\n",
       "\n",
       "#sk-container-id-1 a.estimator_doc_link.fitted {\n",
       "  /* fitted */\n",
       "  border: var(--sklearn-color-fitted-level-1) 1pt solid;\n",
       "  color: var(--sklearn-color-fitted-level-1);\n",
       "}\n",
       "\n",
       "/* On hover */\n",
       "#sk-container-id-1 a.estimator_doc_link:hover {\n",
       "  /* unfitted */\n",
       "  background-color: var(--sklearn-color-unfitted-level-3);\n",
       "  color: var(--sklearn-color-background);\n",
       "  text-decoration: none;\n",
       "}\n",
       "\n",
       "#sk-container-id-1 a.estimator_doc_link.fitted:hover {\n",
       "  /* fitted */\n",
       "  background-color: var(--sklearn-color-fitted-level-3);\n",
       "}\n",
       "</style><div id=\"sk-container-id-1\" class=\"sk-top-container\"><div class=\"sk-text-repr-fallback\"><pre>MultinomialNB()</pre><b>In a Jupyter environment, please rerun this cell to show the HTML representation or trust the notebook. <br />On GitHub, the HTML representation is unable to render, please try loading this page with nbviewer.org.</b></div><div class=\"sk-container\" hidden><div class=\"sk-item\"><div class=\"sk-estimator fitted sk-toggleable\"><input class=\"sk-toggleable__control sk-hidden--visually\" id=\"sk-estimator-id-1\" type=\"checkbox\" checked><label for=\"sk-estimator-id-1\" class=\"sk-toggleable__label fitted sk-toggleable__label-arrow fitted\">&nbsp;&nbsp;MultinomialNB<a class=\"sk-estimator-doc-link fitted\" rel=\"noreferrer\" target=\"_blank\" href=\"https://scikit-learn.org/1.5/modules/generated/sklearn.naive_bayes.MultinomialNB.html\">?<span>Documentation for MultinomialNB</span></a><span class=\"sk-estimator-doc-link fitted\">i<span>Fitted</span></span></label><div class=\"sk-toggleable__content fitted\"><pre>MultinomialNB()</pre></div> </div></div></div></div>"
      ],
      "text/plain": [
       "MultinomialNB()"
      ]
     },
     "execution_count": 54,
     "metadata": {},
     "output_type": "execute_result"
    }
   ],
   "source": [
    "nb_model= MultinomialNB()  # implementing Naive's bayes\n",
    "nb_model.fit(x_train,y_train)"
   ]
  },
  {
   "cell_type": "code",
   "execution_count": 58,
   "id": "5a5887af-b453-4c8b-99aa-e08c4e0e5ef4",
   "metadata": {
    "scrolled": true
   },
   "outputs": [
    {
     "data": {
      "text/plain": [
       "array(['talk.politics.misc', 'comp.sys.ibm.pc.hardware', 'sci.med',\n",
       "       'rec.sport.baseball', 'sci.electronics', 'sci.electronics',\n",
       "       'rec.sport.baseball', 'talk.politics.mideast', 'alt.atheism',\n",
       "       'sci.med', 'alt.atheism', 'sci.electronics', 'sci.crypt',\n",
       "       'rec.sport.baseball', 'comp.sys.ibm.pc.hardware',\n",
       "       'comp.os.ms-windows.misc', 'rec.autos', 'comp.graphics',\n",
       "       'talk.politics.guns', 'talk.politics.misc',\n",
       "       'comp.sys.mac.hardware', 'talk.politics.misc', 'alt.atheism',\n",
       "       'rec.sport.hockey', 'alt.atheism', 'sci.crypt', 'sci.crypt',\n",
       "       'rec.sport.baseball', 'rec.autos', 'alt.atheism',\n",
       "       'rec.sport.baseball', 'rec.sport.hockey', 'comp.windows.x',\n",
       "       'rec.sport.hockey', 'rec.sport.hockey', 'comp.sys.mac.hardware',\n",
       "       'sci.med', 'sci.electronics', 'rec.sport.hockey',\n",
       "       'comp.os.ms-windows.misc', 'sci.electronics',\n",
       "       'soc.religion.christian', 'comp.os.ms-windows.misc',\n",
       "       'talk.politics.misc', 'soc.religion.christian', 'rec.motorcycles',\n",
       "       'comp.windows.x', 'rec.motorcycles', 'alt.atheism',\n",
       "       'talk.politics.guns', 'soc.religion.christian',\n",
       "       'comp.os.ms-windows.misc', 'sci.space', 'comp.os.ms-windows.misc',\n",
       "       'rec.sport.baseball', 'talk.politics.mideast', 'sci.electronics',\n",
       "       'talk.politics.guns', 'sci.crypt', 'comp.sys.ibm.pc.hardware',\n",
       "       'sci.space', 'misc.forsale', 'talk.politics.guns',\n",
       "       'rec.sport.hockey', 'talk.politics.guns', 'talk.politics.misc',\n",
       "       'sci.med', 'soc.religion.christian', 'comp.graphics', 'sci.space',\n",
       "       'sci.space', 'comp.sys.ibm.pc.hardware', 'sci.med',\n",
       "       'rec.sport.hockey', 'rec.motorcycles', 'comp.sys.ibm.pc.hardware',\n",
       "       'talk.politics.guns', 'rec.autos', 'sci.electronics',\n",
       "       'talk.politics.misc', 'alt.atheism', 'rec.motorcycles',\n",
       "       'sci.space', 'soc.religion.christian', 'talk.politics.misc',\n",
       "       'rec.sport.baseball', 'talk.politics.mideast',\n",
       "       'comp.sys.mac.hardware', 'comp.os.ms-windows.misc',\n",
       "       'talk.politics.guns', 'soc.religion.christian',\n",
       "       'talk.politics.mideast', 'comp.os.ms-windows.misc',\n",
       "       'comp.os.ms-windows.misc', 'talk.politics.misc',\n",
       "       'talk.politics.misc', 'misc.forsale', 'sci.electronics',\n",
       "       'soc.religion.christian', 'talk.politics.misc',\n",
       "       'rec.sport.baseball', 'rec.sport.baseball',\n",
       "       'comp.sys.mac.hardware', 'sci.med', 'comp.os.ms-windows.misc',\n",
       "       'rec.motorcycles', 'misc.forsale', 'comp.os.ms-windows.misc',\n",
       "       'rec.motorcycles', 'comp.windows.x', 'rec.autos', 'sci.space',\n",
       "       'rec.sport.hockey', 'talk.politics.mideast', 'rec.autos',\n",
       "       'sci.crypt', 'sci.crypt', 'rec.sport.baseball',\n",
       "       'comp.sys.ibm.pc.hardware', 'sci.crypt', 'talk.politics.misc',\n",
       "       'rec.sport.hockey', 'sci.crypt', 'comp.sys.mac.hardware',\n",
       "       'comp.sys.ibm.pc.hardware', 'soc.religion.christian',\n",
       "       'comp.sys.mac.hardware', 'rec.motorcycles', 'sci.crypt',\n",
       "       'comp.sys.ibm.pc.hardware', 'talk.religion.misc',\n",
       "       'talk.politics.misc', 'rec.autos', 'comp.windows.x',\n",
       "       'rec.motorcycles', 'sci.electronics', 'alt.atheism', 'alt.atheism',\n",
       "       'talk.politics.guns', 'soc.religion.christian', 'sci.med',\n",
       "       'comp.sys.ibm.pc.hardware', 'talk.politics.misc',\n",
       "       'rec.motorcycles', 'soc.religion.christian', 'comp.windows.x',\n",
       "       'misc.forsale', 'comp.sys.mac.hardware', 'comp.os.ms-windows.misc',\n",
       "       'comp.graphics', 'talk.politics.guns', 'rec.sport.baseball',\n",
       "       'misc.forsale', 'sci.crypt', 'comp.sys.ibm.pc.hardware',\n",
       "       'comp.graphics', 'comp.windows.x', 'talk.politics.guns',\n",
       "       'comp.windows.x', 'talk.politics.guns', 'misc.forsale',\n",
       "       'rec.motorcycles', 'comp.graphics', 'sci.crypt',\n",
       "       'talk.religion.misc', 'sci.space', 'talk.politics.mideast',\n",
       "       'sci.electronics', 'comp.os.ms-windows.misc',\n",
       "       'talk.politics.mideast', 'sci.crypt', 'misc.forsale',\n",
       "       'alt.atheism', 'talk.politics.misc', 'comp.sys.mac.hardware',\n",
       "       'sci.med', 'rec.autos', 'sci.med', 'rec.motorcycles',\n",
       "       'soc.religion.christian', 'sci.electronics', 'rec.autos',\n",
       "       'talk.politics.misc', 'sci.crypt', 'rec.motorcycles', 'rec.autos',\n",
       "       'alt.atheism', 'talk.politics.guns', 'sci.crypt',\n",
       "       'sci.electronics', 'rec.autos', 'comp.os.ms-windows.misc',\n",
       "       'sci.med', 'comp.os.ms-windows.misc', 'alt.atheism',\n",
       "       'comp.sys.mac.hardware', 'sci.crypt', 'rec.motorcycles',\n",
       "       'misc.forsale', 'soc.religion.christian', 'talk.politics.misc',\n",
       "       'comp.windows.x', 'comp.graphics', 'rec.autos',\n",
       "       'comp.sys.mac.hardware', 'comp.os.ms-windows.misc', 'sci.space',\n",
       "       'comp.graphics', 'rec.sport.hockey', 'alt.atheism',\n",
       "       'talk.politics.mideast', 'alt.atheism', 'comp.os.ms-windows.misc',\n",
       "       'comp.graphics', 'rec.autos', 'talk.politics.misc', 'sci.crypt',\n",
       "       'comp.sys.ibm.pc.hardware', 'comp.sys.mac.hardware',\n",
       "       'sci.electronics', 'rec.sport.baseball', 'comp.graphics',\n",
       "       'comp.windows.x', 'sci.crypt', 'talk.politics.misc',\n",
       "       'talk.religion.misc', 'comp.sys.mac.hardware', 'comp.graphics',\n",
       "       'talk.politics.guns', 'comp.sys.ibm.pc.hardware', 'alt.atheism',\n",
       "       'comp.os.ms-windows.misc', 'talk.politics.guns', 'sci.space',\n",
       "       'talk.politics.mideast', 'comp.sys.ibm.pc.hardware',\n",
       "       'rec.sport.hockey', 'rec.motorcycles', 'sci.med', 'comp.windows.x',\n",
       "       'rec.autos', 'soc.religion.christian', 'comp.windows.x',\n",
       "       'rec.sport.baseball', 'sci.med', 'comp.graphics', 'rec.autos',\n",
       "       'soc.religion.christian', 'rec.motorcycles',\n",
       "       'comp.sys.mac.hardware', 'rec.sport.hockey',\n",
       "       'comp.sys.ibm.pc.hardware', 'sci.crypt', 'comp.sys.mac.hardware',\n",
       "       'sci.space', 'rec.sport.hockey', 'comp.windows.x', 'misc.forsale',\n",
       "       'talk.politics.misc', 'sci.electronics', 'alt.atheism',\n",
       "       'soc.religion.christian', 'alt.atheism', 'alt.atheism',\n",
       "       'rec.sport.hockey', 'soc.religion.christian', 'comp.graphics',\n",
       "       'comp.graphics', 'comp.os.ms-windows.misc', 'rec.sport.hockey',\n",
       "       'sci.med', 'alt.atheism', 'comp.sys.mac.hardware',\n",
       "       'talk.politics.guns', 'alt.atheism', 'alt.atheism',\n",
       "       'sci.electronics', 'comp.sys.mac.hardware', 'sci.space',\n",
       "       'comp.sys.ibm.pc.hardware', 'alt.atheism', 'sci.space',\n",
       "       'misc.forsale', 'sci.med', 'sci.med', 'alt.atheism',\n",
       "       'comp.os.ms-windows.misc', 'talk.politics.mideast', 'alt.atheism',\n",
       "       'comp.graphics', 'comp.sys.mac.hardware', 'soc.religion.christian',\n",
       "       'sci.space', 'talk.politics.guns', 'comp.windows.x',\n",
       "       'comp.sys.ibm.pc.hardware', 'talk.religion.misc',\n",
       "       'talk.politics.mideast', 'talk.politics.misc',\n",
       "       'comp.sys.mac.hardware', 'comp.windows.x', 'alt.atheism',\n",
       "       'talk.politics.guns', 'sci.space', 'rec.autos',\n",
       "       'talk.religion.misc', 'sci.crypt', 'sci.med', 'rec.sport.baseball',\n",
       "       'alt.atheism', 'rec.sport.hockey', 'talk.politics.guns',\n",
       "       'sci.electronics', 'rec.sport.baseball', 'rec.sport.hockey',\n",
       "       'comp.graphics', 'soc.religion.christian',\n",
       "       'soc.religion.christian', 'talk.politics.misc',\n",
       "       'soc.religion.christian', 'alt.atheism', 'talk.politics.guns',\n",
       "       'comp.graphics', 'sci.crypt', 'rec.sport.baseball',\n",
       "       'comp.windows.x', 'talk.religion.misc', 'misc.forsale',\n",
       "       'talk.politics.guns', 'rec.autos', 'comp.sys.ibm.pc.hardware',\n",
       "       'comp.windows.x', 'soc.religion.christian', 'comp.windows.x',\n",
       "       'comp.sys.ibm.pc.hardware', 'talk.politics.mideast',\n",
       "       'comp.os.ms-windows.misc', 'comp.graphics', 'sci.crypt',\n",
       "       'talk.politics.mideast', 'sci.space', 'comp.sys.ibm.pc.hardware',\n",
       "       'alt.atheism', 'rec.motorcycles', 'comp.windows.x',\n",
       "       'talk.politics.guns', 'comp.sys.ibm.pc.hardware', 'alt.atheism',\n",
       "       'soc.religion.christian', 'rec.sport.baseball', 'comp.graphics',\n",
       "       'comp.sys.mac.hardware', 'sci.space', 'talk.politics.guns',\n",
       "       'comp.graphics', 'comp.windows.x', 'talk.politics.mideast',\n",
       "       'talk.politics.mideast', 'sci.med', 'sci.crypt',\n",
       "       'talk.politics.misc', 'comp.sys.ibm.pc.hardware', 'rec.autos',\n",
       "       'rec.sport.hockey', 'misc.forsale', 'comp.sys.mac.hardware',\n",
       "       'talk.politics.mideast', 'sci.electronics', 'sci.crypt',\n",
       "       'comp.os.ms-windows.misc', 'soc.religion.christian',\n",
       "       'talk.politics.misc', 'alt.atheism', 'talk.politics.misc',\n",
       "       'soc.religion.christian', 'soc.religion.christian',\n",
       "       'comp.sys.mac.hardware', 'talk.politics.mideast',\n",
       "       'talk.politics.misc', 'sci.space', 'sci.space', 'sci.electronics',\n",
       "       'comp.sys.mac.hardware', 'talk.politics.guns', 'comp.graphics',\n",
       "       'rec.autos', 'comp.graphics', 'sci.space', 'misc.forsale',\n",
       "       'soc.religion.christian', 'talk.politics.mideast',\n",
       "       'talk.politics.guns', 'comp.sys.mac.hardware', 'rec.autos',\n",
       "       'comp.windows.x', 'rec.sport.baseball', 'sci.electronics',\n",
       "       'talk.politics.mideast', 'sci.electronics', 'comp.windows.x'],\n",
       "      dtype='<U24')"
      ]
     },
     "execution_count": 58,
     "metadata": {},
     "output_type": "execute_result"
    }
   ],
   "source": [
    "y_pred= nb_model.predict(x_test)  # predicting model\n",
    "y_pred"
   ]
  },
  {
   "cell_type": "code",
   "execution_count": 62,
   "id": "e6eff334-28d0-4b78-861f-0cf784e3685c",
   "metadata": {},
   "outputs": [
    {
     "data": {
      "text/plain": [
       "0.84"
      ]
     },
     "execution_count": 62,
     "metadata": {},
     "output_type": "execute_result"
    }
   ],
   "source": [
    "accuracy= accuracy_score(y_test,y_pred)\n",
    "accuracy"
   ]
  },
  {
   "cell_type": "code",
   "execution_count": 66,
   "id": "73010e88-3206-4b1b-8e45-a4c7a0b093dc",
   "metadata": {},
   "outputs": [
    {
     "name": "stdout",
     "output_type": "stream",
     "text": [
      "                          precision    recall  f1-score   support\n",
      "\n",
      "             alt.atheism       0.53      0.89      0.67        18\n",
      "           comp.graphics       0.76      0.89      0.82        18\n",
      " comp.os.ms-windows.misc       0.95      0.91      0.93        22\n",
      "comp.sys.ibm.pc.hardware       0.90      0.76      0.83        25\n",
      "   comp.sys.mac.hardware       0.83      0.90      0.86        21\n",
      "          comp.windows.x       1.00      0.84      0.91        25\n",
      "            misc.forsale       1.00      0.72      0.84        18\n",
      "               rec.autos       0.89      0.94      0.92        18\n",
      "         rec.motorcycles       0.88      0.88      0.88        16\n",
      "      rec.sport.baseball       0.83      0.83      0.83        18\n",
      "        rec.sport.hockey       0.83      1.00      0.91        15\n",
      "               sci.crypt       0.83      1.00      0.90        19\n",
      "         sci.electronics       0.70      0.88      0.78        16\n",
      "                 sci.med       0.88      0.88      0.88        17\n",
      "               sci.space       1.00      0.90      0.95        21\n",
      "  soc.religion.christian       0.85      0.96      0.90        23\n",
      "      talk.politics.guns       0.92      0.79      0.85        28\n",
      "   talk.politics.mideast       1.00      0.95      0.97        20\n",
      "      talk.politics.misc       0.68      0.94      0.79        18\n",
      "      talk.religion.misc       0.67      0.17      0.27        24\n",
      "\n",
      "                accuracy                           0.84       400\n",
      "               macro avg       0.85      0.85      0.83       400\n",
      "            weighted avg       0.85      0.84      0.83       400\n",
      "\n"
     ]
    }
   ],
   "source": [
    "print(classification_report(y_test,y_pred))"
   ]
  },
  {
   "cell_type": "markdown",
   "id": "7056ff7b-070a-4b61-b30e-36f787fc6b8e",
   "metadata": {},
   "source": [
    "## Sentiment Analysis"
   ]
  },
  {
   "cell_type": "code",
   "execution_count": 69,
   "id": "879836bd-46e4-4f0b-aa9e-1449bc362181",
   "metadata": {},
   "outputs": [
    {
     "name": "stdout",
     "output_type": "stream",
     "text": [
      "Collecting textblob\n",
      "  Downloading textblob-0.19.0-py3-none-any.whl.metadata (4.4 kB)\n",
      "Requirement already satisfied: nltk>=3.9 in c:\\users\\maheesh\\anaconda3\\lib\\site-packages (from textblob) (3.9.1)\n",
      "Requirement already satisfied: click in c:\\users\\maheesh\\anaconda3\\lib\\site-packages (from nltk>=3.9->textblob) (8.1.7)\n",
      "Requirement already satisfied: joblib in c:\\users\\maheesh\\anaconda3\\lib\\site-packages (from nltk>=3.9->textblob) (1.4.2)\n",
      "Requirement already satisfied: regex>=2021.8.3 in c:\\users\\maheesh\\anaconda3\\lib\\site-packages (from nltk>=3.9->textblob) (2024.9.11)\n",
      "Requirement already satisfied: tqdm in c:\\users\\maheesh\\anaconda3\\lib\\site-packages (from nltk>=3.9->textblob) (4.66.5)\n",
      "Requirement already satisfied: colorama in c:\\users\\maheesh\\anaconda3\\lib\\site-packages (from click->nltk>=3.9->textblob) (0.4.6)\n",
      "Downloading textblob-0.19.0-py3-none-any.whl (624 kB)\n",
      "   ---------------------------------------- 0.0/624.3 kB ? eta -:--:--\n",
      "   ---------------------------------------- 624.3/624.3 kB 5.7 MB/s eta 0:00:00\n",
      "Installing collected packages: textblob\n",
      "Successfully installed textblob-0.19.0\n",
      "Note: you may need to restart the kernel to use updated packages.\n"
     ]
    }
   ],
   "source": [
    "pip install textblob"
   ]
  },
  {
   "cell_type": "code",
   "execution_count": 71,
   "id": "a865d508-84c0-4442-873f-1f9dc66f46fa",
   "metadata": {},
   "outputs": [
    {
     "name": "stderr",
     "output_type": "stream",
     "text": [
      "[nltk_data] Downloading package movie_reviews to\n",
      "[nltk_data]     C:\\Users\\Maheesh\\AppData\\Roaming\\nltk_data...\n",
      "[nltk_data]   Unzipping corpora\\movie_reviews.zip.\n"
     ]
    }
   ],
   "source": [
    "nltk.download('movie_reviews')\n",
    "from textblob import TextBlob"
   ]
  },
  {
   "cell_type": "code",
   "execution_count": 73,
   "id": "aeb1faea-2565-45c4-8873-9e95db73b598",
   "metadata": {},
   "outputs": [],
   "source": [
    "def get_sentiment(text):\n",
    "    blob= TextBlob(text)\n",
    "    if blob.sentiment.polarity>0:\n",
    "        return 'positive'\n",
    "    elif blob.sentiment.polarity<0:\n",
    "        return 'negative'\n",
    "    else:\n",
    "        return 'neutral'"
   ]
  },
  {
   "cell_type": "code",
   "execution_count": 75,
   "id": "c2f7f327-9a2e-4fd8-ae51-5a5457252d44",
   "metadata": {},
   "outputs": [
    {
     "name": "stdout",
     "output_type": "stream",
     "text": [
      "                                                Data sentiment\n",
      "0  Path: cantaloupe.srv.cs.cmu.edu!magnesium.club...  positive\n",
      "1  Newsgroups: alt.atheism\\nPath: cantaloupe.srv....  negative\n",
      "2  Path: cantaloupe.srv.cs.cmu.edu!das-news.harva...  positive\n",
      "3  Path: cantaloupe.srv.cs.cmu.edu!magnesium.club...  positive\n",
      "4  Xref: cantaloupe.srv.cs.cmu.edu alt.atheism:53...  positive\n"
     ]
    }
   ],
   "source": [
    "df['sentiment']= df['cleaned_text'].apply(get_sentiment)\n",
    "print(df[['Data','sentiment']].head())"
   ]
  },
  {
   "cell_type": "markdown",
   "id": "1b3527f2-391f-4a0e-a993-9bc8e0a96be0",
   "metadata": {},
   "source": [
    "## Model Evaluation"
   ]
  },
  {
   "cell_type": "code",
   "execution_count": 80,
   "id": "69c16f7b-2914-473c-83af-a2bfb04494ff",
   "metadata": {},
   "outputs": [],
   "source": [
    "def get_sentiment(text):\n",
    "    blob= TextBlob(text)\n",
    "    polarity= blob.sentiment.polarity\n",
    "    if polarity>0:\n",
    "        return 'Positive'\n",
    "    elif polarity<0:\n",
    "        return 'Negative'\n",
    "    else:\n",
    "        return 'Neutral'"
   ]
  },
  {
   "cell_type": "code",
   "execution_count": 86,
   "id": "8ad572e8-2e80-4598-ab57-38e01bb1f8d0",
   "metadata": {},
   "outputs": [
    {
     "name": "stdout",
     "output_type": "stream",
     "text": [
      "                                                Data Sentiment\n",
      "0  Path: cantaloupe.srv.cs.cmu.edu!magnesium.club...  Positive\n",
      "1  Newsgroups: alt.atheism\\nPath: cantaloupe.srv....  Negative\n",
      "2  Path: cantaloupe.srv.cs.cmu.edu!das-news.harva...  Positive\n",
      "3  Path: cantaloupe.srv.cs.cmu.edu!magnesium.club...  Positive\n",
      "4  Xref: cantaloupe.srv.cs.cmu.edu alt.atheism:53...  Positive\n"
     ]
    }
   ],
   "source": [
    "df['Sentiment']= df['Data'].apply(get_sentiment)\n",
    "print(df[['Data','Sentiment']].head())"
   ]
  },
  {
   "cell_type": "code",
   "execution_count": 87,
   "id": "1ebfb0a0-5748-4cb9-be97-c9ef0bb59552",
   "metadata": {},
   "outputs": [
    {
     "name": "stdout",
     "output_type": "stream",
     "text": [
      "Sentiment                 Negative  Positive\n",
      "Labels                                      \n",
      "alt.atheism                     23        77\n",
      "comp.graphics                   24        76\n",
      "comp.os.ms-windows.misc         22        78\n",
      "comp.sys.ibm.pc.hardware        20        80\n",
      "comp.sys.mac.hardware           24        76\n",
      "comp.windows.x                  27        73\n",
      "misc.forsale                    16        84\n",
      "rec.autos                       17        83\n",
      "rec.motorcycles                 26        74\n",
      "rec.sport.baseball              29        71\n",
      "rec.sport.hockey                34        66\n",
      "sci.crypt                       19        81\n",
      "sci.electronics                 19        81\n",
      "sci.med                         29        71\n",
      "sci.space                       27        73\n",
      "soc.religion.christian          13        87\n",
      "talk.politics.guns              30        70\n",
      "talk.politics.mideast           22        78\n",
      "talk.politics.misc              22        78\n",
      "talk.religion.misc              14        86\n"
     ]
    }
   ],
   "source": [
    "sentiment_distribution= df.groupby(['Labels','Sentiment']).size().unstack().fillna(0)\n",
    "print(sentiment_distribution)"
   ]
  },
  {
   "cell_type": "code",
   "execution_count": 90,
   "id": "9fccdbf8-4745-4cde-850f-d17f9a103fbd",
   "metadata": {},
   "outputs": [
    {
     "data": {
      "image/png": "[encoded data removed]",
      "text/plain": [
       "<Figure size 1000x600 with 1 Axes>"
      ]
     },
     "metadata": {},
     "output_type": "display_data"
    }
   ],
   "source": [
    "sentiment_distribution.plot(kind='bar',stacked=True,figsize=(10,6))\n",
    "plt.title('Sentiment Distribution Across Categories')\n",
    "plt.xlabel('Category')\n",
    "plt.ylabel('Count')\n",
    "plt.xticks(rotation=45)\n",
    "plt.show()"
   ]
  },
  {
   "cell_type": "code",
   "execution_count": 92,
   "id": "a9803ade-b3e1-4dcc-a763-aa8c39486038",
   "metadata": {},
   "outputs": [
    {
     "data": {
      "text/plain": [
       "0.84"
      ]
     },
     "execution_count": 92,
     "metadata": {},
     "output_type": "execute_result"
    }
   ],
   "source": [
    "accuracy"
   ]
  }
 ],
 "metadata": {
  "kernelspec": {
   "display_name": "Python [conda env:base] *",
   "language": "python",
   "name": "conda-base-py"
  },
  "language_info": {
   "codemirror_mode": {
    "name": "ipython",
    "version": 3
   },
   "file_extension": ".py",
   "mimetype": "text/x-python",
   "name": "python",
   "nbconvert_exporter": "python",
   "pygments_lexer": "ipython3",
   "version": "3.12.7"
  }
 },
 "nbformat": 4,
 "nbformat_minor": 5
}
